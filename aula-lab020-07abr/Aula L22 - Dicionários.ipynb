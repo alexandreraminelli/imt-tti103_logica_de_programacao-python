{
  "cells": [
    {
      "cell_type": "markdown",
      "metadata": {
        "id": "PDPL77ECcuyT"
      },
      "source": [
        "#**TTI103 - Lógica de Programação**\n",
        "\n",
        "#**Aula L22 - Dicionários**"
      ]
    },
    {
      "cell_type": "markdown",
      "metadata": {
        "id": "5KEQnv5Ss6ZM"
      },
      "source": [
        "##**Exercício 01 - Dicionários de listas**\n",
        "\n",
        "Escreva uma função `ordena_dic` que recebe um dicionário cujos valores são listas e devolve um novo dicionário, com as listas ordenadas. A seguir, teste sua função com os dicionários:\n",
        "\n",
        "`x = {'n1': [2, 3, 1], 'n2': [5, 1, 2], 'n3': [3, 2, 4]}`\n",
        "\n",
        "`y = {'nomes':['Gabriela', 'Jorge', 'Alvaro', 'Zulmira'],'sobrenomes':['Pontes', 'Silva', 'Arantes']}`\n"
      ]
    },
    {
      "cell_type": "code",
      "execution_count": 20,
      "metadata": {
        "id": "_pz1FPEwvCSU"
      },
      "outputs": [],
      "source": [
        "# Exercício 01\n",
        "x = {'n1': [2, 3, 1], 'n2': [5, 1, 2], 'n3': [3, 2, 4]}\n",
        "y = {'nomes': ['Gabriela', 'Jorge', 'Alvaro', 'Zulmira'],\n",
        "     'sobrenomes': ['Pontes', 'Silva', 'Arantes']}\n",
        "\n",
        "def ordena_dic(dicionario):\n",
        "    novo_dicionario = {}\n",
        "    for chave, valor in dicionario.items():\n",
        "        novo_dicionario[chave] = sorted(valor)\n",
        "    return novo_dicionario\n",
        "\n",
        "def ordena_dic_alternativo(dicionario): \n",
        "    return {chave: sorded()}\n",
        "        "
      ]
    },
    {
      "cell_type": "markdown",
      "metadata": {
        "id": "I5ALa5KMvcbz"
      },
      "source": [
        "##**Exercício 02 - Itens mais caros**\n",
        "\n",
        "Escreva uma função `mais_caros` que retorne os valores dos três itens mais caros de uma determinada compra em uma loja de departamentos. Cada compra é representada por um dicionário cuja chave é o item e o valor o custo associado. A seguir, teste sua função com o dicionário:\n",
        "\n",
        "`compra = {'item1': 45.50, 'item2':35, 'item3': 41.30,\n",
        "          'item4':55, 'item5':24}`"
      ]
    },
    {
      "cell_type": "code",
      "execution_count": 21,
      "metadata": {},
      "outputs": [],
      "source": [
        "def mais_caros(dicionario):\n",
        "    return sorted(dicionario.values(), reverse=True)[:3]"
      ]
    },
    {
      "cell_type": "code",
      "execution_count": 27,
      "metadata": {
        "id": "pOJeeeQ4wasY"
      },
      "outputs": [
        {
          "name": "stdout",
          "output_type": "stream",
          "text": [
            "Os itens mais caros são: [55, 45.5, 41.3]\n"
          ]
        }
      ],
      "source": [
        "# Exercício 02\n",
        "compra = {'item1': 45.50, 'item2': 35, 'item3': 41.30, 'item4': 55, 'item5':24}\n",
        "\n",
        "top = mais_caros(compra)\n",
        "print('Os itens mais caros são:', top)"
      ]
    },
    {
      "cell_type": "markdown",
      "metadata": {
        "id": "02E9pK3Rw5SL"
      },
      "source": [
        "##**Exercício 03 - Média de provas**\n",
        "\n",
        "Escreva uma função `calcula_medias` que recebe uma lista de dicionários contendo o RA e as notas das provas P1 e P2 de um grupo de alunos e devolve outra lista de dicionários, contendo o RA e a média obtida nas provas. A seguir, teste sua função com o dicionário:\n",
        "\n",
        "`notas_alunos = [{'RA':'0123', 'P1':6.5, 'P2':8.5},\n",
        "                {'RA':'2189', 'P1':10.0, 'P2':6.0},\n",
        "                {'RA':'3577', 'P1':3.5, 'P2':7.0}]`"
      ]
    },
    {
      "cell_type": "code",
      "execution_count": 38,
      "metadata": {
        "id": "JnvzAvTfx0rz"
      },
      "outputs": [
        {
          "ename": "TypeError",
          "evalue": "list indices must be integers or slices, not str",
          "output_type": "error",
          "traceback": [
            "\u001b[1;31m---------------------------------------------------------------------------\u001b[0m",
            "\u001b[1;31mTypeError\u001b[0m                                 Traceback (most recent call last)",
            "Cell \u001b[1;32mIn[38], line 14\u001b[0m\n\u001b[0;32m      9\u001b[0m     \u001b[38;5;28;01mreturn\u001b[39;00m medias\n\u001b[0;32m     11\u001b[0m notas_alunos \u001b[38;5;241m=\u001b[39m [{\u001b[38;5;124m'\u001b[39m\u001b[38;5;124mRA\u001b[39m\u001b[38;5;124m'\u001b[39m:\u001b[38;5;124m'\u001b[39m\u001b[38;5;124m0123\u001b[39m\u001b[38;5;124m'\u001b[39m, \u001b[38;5;124m'\u001b[39m\u001b[38;5;124mP1\u001b[39m\u001b[38;5;124m'\u001b[39m:\u001b[38;5;241m6.5\u001b[39m, \u001b[38;5;124m'\u001b[39m\u001b[38;5;124mP2\u001b[39m\u001b[38;5;124m'\u001b[39m:\u001b[38;5;241m8.5\u001b[39m},\n\u001b[0;32m     12\u001b[0m                 {\u001b[38;5;124m'\u001b[39m\u001b[38;5;124mRA\u001b[39m\u001b[38;5;124m'\u001b[39m:\u001b[38;5;124m'\u001b[39m\u001b[38;5;124m2189\u001b[39m\u001b[38;5;124m'\u001b[39m, \u001b[38;5;124m'\u001b[39m\u001b[38;5;124mP1\u001b[39m\u001b[38;5;124m'\u001b[39m:\u001b[38;5;241m10.0\u001b[39m, \u001b[38;5;124m'\u001b[39m\u001b[38;5;124mP2\u001b[39m\u001b[38;5;124m'\u001b[39m:\u001b[38;5;241m6.0\u001b[39m},\n\u001b[0;32m     13\u001b[0m                 {\u001b[38;5;124m'\u001b[39m\u001b[38;5;124mRA\u001b[39m\u001b[38;5;124m'\u001b[39m:\u001b[38;5;124m'\u001b[39m\u001b[38;5;124m3577\u001b[39m\u001b[38;5;124m'\u001b[39m, \u001b[38;5;124m'\u001b[39m\u001b[38;5;124mP1\u001b[39m\u001b[38;5;124m'\u001b[39m:\u001b[38;5;241m3.5\u001b[39m, \u001b[38;5;124m'\u001b[39m\u001b[38;5;124mP2\u001b[39m\u001b[38;5;124m'\u001b[39m:\u001b[38;5;241m7.0\u001b[39m}]\n\u001b[1;32m---> 14\u001b[0m medias_alunos \u001b[38;5;241m=\u001b[39m \u001b[43mcalcula_medias\u001b[49m\u001b[43m(\u001b[49m\u001b[43mnotas_alunos\u001b[49m\u001b[43m)\u001b[49m\n\u001b[0;32m     15\u001b[0m \u001b[38;5;28mprint\u001b[39m(medias_alunos)\n",
            "Cell \u001b[1;32mIn[38], line 6\u001b[0m, in \u001b[0;36mcalcula_medias\u001b[1;34m(lista_dic)\u001b[0m\n\u001b[0;32m      4\u001b[0m \u001b[38;5;28;01mfor\u001b[39;00m aluno \u001b[38;5;129;01min\u001b[39;00m lista_dic:\n\u001b[0;32m      5\u001b[0m     dic_media \u001b[38;5;241m=\u001b[39m []\n\u001b[1;32m----> 6\u001b[0m     \u001b[43mdic_media\u001b[49m\u001b[43m[\u001b[49m\u001b[38;5;124;43m'\u001b[39;49m\u001b[38;5;124;43mRA\u001b[39;49m\u001b[38;5;124;43m'\u001b[39;49m\u001b[43m]\u001b[49m \u001b[38;5;241m=\u001b[39m aluno[\u001b[38;5;124m'\u001b[39m\u001b[38;5;124mRA\u001b[39m\u001b[38;5;124m'\u001b[39m]\n\u001b[0;32m      7\u001b[0m     dic_media[\u001b[38;5;124m'\u001b[39m\u001b[38;5;124mmedia\u001b[39m\u001b[38;5;124m'\u001b[39m] \u001b[38;5;241m=\u001b[39m (aluno[\u001b[38;5;124m'\u001b[39m\u001b[38;5;124mP1\u001b[39m\u001b[38;5;124m'\u001b[39m] \u001b[38;5;241m+\u001b[39m aluno[\u001b[38;5;124m'\u001b[39m\u001b[38;5;124mP2\u001b[39m\u001b[38;5;124m'\u001b[39m]) \u001b[38;5;241m/\u001b[39m \u001b[38;5;241m2\u001b[39m\n\u001b[0;32m      8\u001b[0m     medias\u001b[38;5;241m.\u001b[39mappend(dic_media)\n",
            "\u001b[1;31mTypeError\u001b[0m: list indices must be integers or slices, not str"
          ]
        }
      ],
      "source": [
        "# Exercício 03\n",
        "def calcula_medias(lista_dic):\n",
        "    medias = []\n",
        "    for aluno in lista_dic:\n",
        "        dic_media = []\n",
        "        dic_media['RA'] = aluno['RA']\n",
        "        dic_media['media'] = (aluno['P1'] + aluno['P2']) / 2\n",
        "        medias.append(dic_media)\n",
        "    return medias\n",
        "\n",
        "notas_alunos = [{'RA':'0123', 'P1':6.5, 'P2':8.5},\n",
        "                {'RA':'2189', 'P1':10.0, 'P2':6.0},\n",
        "                {'RA':'3577', 'P1':3.5, 'P2':7.0}]\n",
        "medias_alunos = calcula_medias(notas_alunos)\n",
        "print(medias_alunos)"
      ]
    },
    {
      "cell_type": "code",
      "execution_count": 24,
      "metadata": {},
      "outputs": [
        {
          "name": "stdout",
          "output_type": "stream",
          "text": [
            "{'24.12345-6': 'João da Silva', '23.12345-6': 'Maria Joaquina'}\n"
          ]
        }
      ],
      "source": [
        "RA = ['24.12345-6', '23.12345-6']\n",
        "Nome = ['João da Silva', 'Maria Joaquina']\n",
        "\n",
        "novo_dicionario = dict(zip(RA, Nome))\n",
        "print(novo_dicionario)"
      ]
    },
    {
      "cell_type": "code",
      "execution_count": null,
      "metadata": {},
      "outputs": [],
      "source": []
    }
  ],
  "metadata": {
    "colab": {
      "provenance": []
    },
    "kernelspec": {
      "display_name": "Python 3",
      "language": "python",
      "name": "python3"
    },
    "language_info": {
      "codemirror_mode": {
        "name": "ipython",
        "version": 3
      },
      "file_extension": ".py",
      "mimetype": "text/x-python",
      "name": "python",
      "nbconvert_exporter": "python",
      "pygments_lexer": "ipython3",
      "version": "3.12.3"
    },
    "vscode": {
      "interpreter": {
        "hash": "c261aea317cc0286b3b3261fbba9abdec21eaa57589985bb7a274bf54d6cc0a7"
      }
    }
  },
  "nbformat": 4,
  "nbformat_minor": 0
}
