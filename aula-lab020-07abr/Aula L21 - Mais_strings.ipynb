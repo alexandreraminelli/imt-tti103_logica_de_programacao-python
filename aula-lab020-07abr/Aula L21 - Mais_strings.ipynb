{
  "cells": [
    {
      "cell_type": "markdown",
      "metadata": {
        "id": "eukAJhnq3T1T"
      },
      "source": [
        "#**TTI103 - Lógica de Programação**\n",
        "\n",
        "#**Aula L21 - Mais strings**"
      ]
    },
    {
      "cell_type": "markdown",
      "metadata": {
        "id": "57mESXyENDjL"
      },
      "source": [
        "##**Exercício 01 - Manipulações simples com strings**\n",
        "\n",
        "**a)** Construa um programa em Python que troque todas as ocorrencias de uma letra L1 pela letra L2 em uma *string*. A *string* e as letras L1 e L2 devem ser fornecidas pelo usuario."
      ]
    },
    {
      "cell_type": "code",
      "execution_count": 4,
      "metadata": {
        "id": "AOLneMzYNY77"
      },
      "outputs": [
        {
          "name": "stdout",
          "output_type": "stream",
          "text": [
            "A nova frase é :\n",
            "MEndo\n"
          ]
        }
      ],
      "source": [
        "# Exercício 01\n",
        "\n",
        "# Entrada de dados\n",
        "frase = input('Digite uma frase: ').strip()\n",
        "l1 = input('Qual letra deve ser substituida? ')[0]\n",
        "l2 = input(f\"Por qual letra o '{l1} deve ser substituido? \")[0]\n",
        "\n",
        "# Processamento\n",
        "frase_nova = frase.replace(l1, l2)\n",
        "\n",
        "# Saída\n",
        "print(f'A nova frase é :\\n{frase_nova}')"
      ]
    },
    {
      "cell_type": "markdown",
      "metadata": {
        "id": "G-pgO4j7Ndez"
      },
      "source": [
        "**b)** Escreva um programa que leia duas palavras e diga qual deles vem primeiro na ordem\n",
        "alfabetica.\n",
        "\n",
        "*Dica:* `'a'` é menor do que `'b'`."
      ]
    },
    {
      "cell_type": "code",
      "execution_count": 13,
      "metadata": {
        "id": "ki54cf-bN67b"
      },
      "outputs": [
        {
          "name": "stdout",
          "output_type": "stream",
          "text": [
            "A palavra 'livro' é menor do que 'python'.\n"
          ]
        }
      ],
      "source": [
        "# Exercício 01b\n",
        "palavra1 = input('Digite uma palavra: ').strip().lower()\n",
        "palavra2 = input('Digite outra palavra: ').strip().lower()\n",
        "\n",
        "ordenado = sorted([palavra1, palavra2])\n",
        "\n",
        "print(f\"A palavra '{ordenado[0]}' é menor do que '{ordenado[1]}'.\")"
      ]
    },
    {
      "cell_type": "markdown",
      "metadata": {
        "id": "_N5TtBNNZkHY"
      },
      "source": [
        "**c)** Escreva um programa que leia vários números reais em uma mesma linha, e imprima a soma."
      ]
    },
    {
      "cell_type": "code",
      "execution_count": 16,
      "metadata": {
        "id": "lGwW5F_cZwa_"
      },
      "outputs": [
        {
          "name": "stdout",
          "output_type": "stream",
          "text": [
            "239 302 \n",
            "A soma desses números é 541.\n"
          ]
        }
      ],
      "source": [
        "# Exercício 01c\n",
        "\n",
        "# Entrada\n",
        "lista = []\n",
        "while True:\n",
        "    try:\n",
        "        n = int(input('Digite um número (outro caracteres para sair): '))\n",
        "    except:\n",
        "        break\n",
        "    else:\n",
        "        lista.append(n)\n",
        "\n",
        "# Saída\n",
        "for e in lista:\n",
        "    print(e, end=' ')\n",
        "\n",
        "print(f'\\nA soma desses números é {sum(lista)}.')"
      ]
    },
    {
      "cell_type": "markdown",
      "metadata": {
        "id": "xZx6J_JQaxVB"
      },
      "source": [
        "**d)** Escreva uma função com protótipo:"
      ]
    },
    {
      "cell_type": "code",
      "execution_count": 30,
      "metadata": {
        "id": "rpxniP8acmmp"
      },
      "outputs": [],
      "source": [
        "def insereSeNovo (nome, lista):\n",
        "  ''' (str, list) -> int\n",
        "  Modifica a lista, inserindo nome na lista.\n",
        "  Retorna a posição de nome na lista ou None caso ele já exista.\n",
        "  '''\n",
        "  if nome in lista:\n",
        "    return lista.index(nome)\n",
        "  \n",
        "  "
      ]
    },
    {
      "cell_type": "markdown",
      "metadata": {
        "id": "cgRU7VIzcp2Z"
      },
      "source": [
        "Essa função devolve a posição em que o *string* `x` ocorre em lista ou, caso `x` não estiver na lista, insere `x` no final da lista e devolve o índice dessa posição. O código a seguir deve ser usado para testar aus função:"
      ]
    },
    {
      "cell_type": "code",
      "execution_count": 33,
      "metadata": {
        "id": "Ja2xcw3Yc_ao"
      },
      "outputs": [
        {
          "name": "stdout",
          "output_type": "stream",
          "text": [
            "['Ronaldo', 'Romario', 'Rivelino'], que deve ser Ronaldo, Romario, Rivelino, Pele.\n",
            "Posições: Romario 1, Pele None, Rivelino 2.\n"
          ]
        }
      ],
      "source": [
        "# Exercício 01d\n",
        "\n",
        "# Codigo de teste\n",
        "lista = ['Ronaldo', 'Romario', 'Rivelino']\n",
        "pos1 = insereSeNovo('Romario', lista)\n",
        "pos2 = insereSeNovo('Pele', lista)\n",
        "pos3 = insereSeNovo('Rivelino', lista)\n",
        "print(f'{lista}, que deve ser Ronaldo, Romario, Rivelino, Pele.')\n",
        "print(f'Posições: Romario {pos1}, Pele {pos2}, Rivelino {pos3}.')"
      ]
    },
    {
      "cell_type": "markdown",
      "metadata": {
        "id": "ybjQmQpq8qL3"
      },
      "source": [
        "**e)** Elabore um programa modular que leia o nome do usuário e o imprima na vertical, em forma de escada, usando apenas letras maiúsculas.\n",
        "\n",
        "Exemplo de uso:\n",
        "\n",
        "Nome = Vanessa\n",
        "\n",
        "Resultado gerado pelo programa:\n",
        "\n",
        "V\n",
        "\n",
        "VA\n",
        "\n",
        "VAN\n",
        "\n",
        "VANE\n",
        "\n",
        "VANES\n",
        "\n",
        "VANESS\n",
        "\n",
        "VANESSA"
      ]
    },
    {
      "cell_type": "code",
      "execution_count": 49,
      "metadata": {
        "id": "S_oocSDC8rSx"
      },
      "outputs": [
        {
          "ename": "AttributeError",
          "evalue": "'NoneType' object has no attribute 'upper'",
          "output_type": "error",
          "traceback": [
            "\u001b[1;31m---------------------------------------------------------------------------\u001b[0m",
            "\u001b[1;31mAttributeError\u001b[0m                            Traceback (most recent call last)",
            "Cell \u001b[1;32mIn[49], line 2\u001b[0m\n\u001b[0;32m      1\u001b[0m \u001b[38;5;66;03m# Exercício 01e\u001b[39;00m\n\u001b[1;32m----> 2\u001b[0m nome \u001b[38;5;241m=\u001b[39m \u001b[38;5;28;43minput\u001b[39;49m\u001b[43m(\u001b[49m\u001b[38;5;124;43m'\u001b[39;49m\u001b[38;5;124;43mDigite seu nome: \u001b[39;49m\u001b[38;5;124;43m'\u001b[39;49m\u001b[43m)\u001b[49m\u001b[38;5;241;43m.\u001b[39;49m\u001b[43mupper\u001b[49m()\n\u001b[0;32m      4\u001b[0m \u001b[38;5;28;01mfor\u001b[39;00m _ \u001b[38;5;129;01min\u001b[39;00m \u001b[38;5;28mrange\u001b[39m(\u001b[38;5;241m0\u001b[39m, \u001b[38;5;28mlen\u001b[39m(nome) \u001b[38;5;241m+\u001b[39m \u001b[38;5;241m1\u001b[39m):\n\u001b[0;32m      5\u001b[0m     \u001b[38;5;28mprint\u001b[39m(nome[\u001b[38;5;241m0\u001b[39m:_])\n",
            "\u001b[1;31mAttributeError\u001b[0m: 'NoneType' object has no attribute 'upper'"
          ]
        }
      ],
      "source": [
        "# Exercício 01e\n",
        "nome = input('Digite seu nome: ').upper()\n",
        "\n",
        "for _ in range(0, len(nome) + 1):\n",
        "    print(nome[0:_])"
      ]
    },
    {
      "cell_type": "markdown",
      "metadata": {
        "id": "WaIyvXLa38Xo"
      },
      "source": [
        "##**Exercício 02 – Senha da biblioteca**\n",
        "\n",
        "Uma biblioteca distribui um cartão magnético para que os alunos possam frequentá-la. A senha inicial, enviada pelo correio, é gerada automaticamente a partir da data de nascimento do aluno ('dd/mm/aaaa') do seguinte modo:\n",
        "\n",
        "`mm'$'dd(invertido) + '#' + dd'!'mm(invertido) + '\\'+aaaa`\n",
        "\n",
        "Assim, se a data de nascimento é 25/10/1995, a senha será:\n",
        "\n",
        "`10$52#25!01\\1995`\n",
        "\n",
        "Escreva um programa modular que solicite ao usuário a inserção da data de nascimento no formato dd/mm/aaaa e retorne sua senha de acordo com as regras da biblioteca."
      ]
    },
    {
      "cell_type": "code",
      "execution_count": 20,
      "metadata": {
        "id": "T6hD6HtbhvmY"
      },
      "outputs": [
        {
          "name": "stdout",
          "output_type": "stream",
          "text": [
            "Formato de data incorreto! Tente novamente!\n",
            "Sua senha é 05$82#28!50\\2005.\n"
          ]
        }
      ],
      "source": [
        "# Exercício 02\n",
        "while True:\n",
        "    data = input('Digite a data de nascimento no formato DD/MM/AAAA: ').split('/')\n",
        "    \n",
        "    dia = data[0]\n",
        "    mes = data[1]\n",
        "    ano = data[2]\n",
        "\n",
        "    if len(data) == 3 and len(dia) <= 2 and (1 <= int(dia) <= 31) and len(mes) <= 2 and (1 <= int(mes) <= 12) and len(ano) <= 4:\n",
        "        break\n",
        "    else:\n",
        "        print('Formato de data incorreto! Tente novamente!')\n",
        "\n",
        "senha = f\"{mes}${dia[::-1]}#{dia}!{mes[::-1]}\\\\{ano}\"\n",
        "\n",
        "print(f'Sua senha é {senha}.')\n"
      ]
    },
    {
      "cell_type": "markdown",
      "metadata": {
        "id": "SMMs32Hih5VO"
      },
      "source": [
        "##**Exercício 03 - DNA**\n",
        "\n",
        "Construa uma função `DNA_complementar` que recebe uma *string* que representa\n",
        "uma cadeia de DNA e gera a cadeia complementar. A\n",
        "entrada e saída de dados deve ser feita pelo programa principal.\n",
        "\n",
        "Lembrando: O DNA (Ácido Desoxirribonucléico) é composto por milhões de nucleotídeos ligados uns aos outros. Separadamente, os nucleotídeos são bastante simples, consistindo de três partes diferentes:\n",
        "\n",
        "* Base nitrogenada (Adenina (A), Timina (T), Guanina (G) ou Citosina(C));\n",
        "* Desoxirribose (um açúcar por cinco carbonos);\n",
        "* Um grupamento fosfato.\n",
        "\n",
        "As bases nitrogenadas Adenina e Timina são complementares; o mesmo ocorre com Guanina e Citosina.\n",
        "\n",
        "Exemplo de uso:\n",
        "* Entrada: `AATCTGCAC`\n",
        "* Saída: `TTAGACGTG`"
      ]
    },
    {
      "cell_type": "code",
      "execution_count": null,
      "metadata": {
        "id": "wmZLDEF4fBkB"
      },
      "outputs": [],
      "source": [
        "# Exercício 03\n",
        "while True:\n",
        "    cadeia_principal = input('Digite a cadeia principal: ')\n",
        "    for c in "
      ]
    },
    {
      "cell_type": "markdown",
      "metadata": {
        "id": "war3Lk2g9tQg"
      },
      "source": [
        "##**Exercício 04 - Ordenar títulos**\n",
        "\n",
        "Elabore um programa modular para ordenar uma lista de títulos de livros em ordem alfabética e deixá-los separados por vírgula.\n",
        "\n",
        "A lista de títulos é fornecida como uma *string* chamada “titulos”, onde cada título está em uma nova linha.\n",
        "\n",
        "Segue exemplo de lista:"
      ]
    },
    {
      "cell_type": "code",
      "execution_count": null,
      "metadata": {
        "id": "NZb7GYVO9645"
      },
      "outputs": [],
      "source": [
        "titulos = \"\"\"O Senhor dos Anéis\n",
        "Harry Potter e a Pedra Filosofal\n",
        "1984\n",
        "O Lobo da Estepe\n",
        "Cem Anos de Solidão\n",
        "A Metamorfose\n",
        "A Revolução dos Bichos\n",
        "Crime e Castigo\n",
        "Macunaíma\"\"\""
      ]
    },
    {
      "cell_type": "code",
      "execution_count": null,
      "metadata": {
        "id": "645yoUoO-N1H"
      },
      "outputs": [],
      "source": [
        "# Exercício 04\n"
      ]
    },
    {
      "cell_type": "markdown",
      "metadata": {
        "id": "rJslIK3M--Nr"
      },
      "source": [
        "##**Exercício 05 - Contar palavras**\n",
        "\n",
        "Você trabalha em uma biblioteca e recebeu uma lista de títulos de artigos. Sua tarefa é criar um programa modular que conte quantas vezes uma determinada palavra aparece nos títulos dos artigos.\n",
        "\n",
        "Um exemplo de lista de títulos é visto na célula de código a seguir. Use essa lista para testar seu código, usando como entrada a *string* `'GPT'`."
      ]
    },
    {
      "cell_type": "code",
      "execution_count": null,
      "metadata": {
        "id": "lHfM0-ZY_ID6"
      },
      "outputs": [],
      "source": [
        "artigos = [\n",
        "'RecurrentGPT: Interactive Generation of (Arbitrarily) Long Text',\n",
        "'VideoLLM: Modeling Video Sequence with Large Language Models',\n",
        "'Watermarking Text Data on Large Language Models for Dataset Copyright Protection',\n",
        "'InheritSumm: A General, Versatile and Compact Summarizer by Distilling from GPT',\n",
        "'Can Large Language Models emulate an inductive Thematic Analysis of semi-structured interviews? An exploration and provocation on the limits of the approach and the model',\n",
        "'GPT-SW3: An Autoregressive Language Model for the Nordic Languages',\n",
        "'The Emergence of Economic Rationality of GPT',\n",
        "'Can We Edit Factual Knowledge by In-Context Learning?',\n",
        "'G3Detector: General GPT-Generated Text Detector',\n",
        "'GPT Paternity Test: GPT Generated Text Detection with GPT Genetic Inheritance'\n",
        "]"
      ]
    },
    {
      "cell_type": "code",
      "execution_count": null,
      "metadata": {
        "id": "FDN8S2tD_Jhv"
      },
      "outputs": [],
      "source": [
        "# Exercício 05"
      ]
    }
  ],
  "metadata": {
    "colab": {
      "provenance": []
    },
    "kernelspec": {
      "display_name": "Python 3",
      "language": "python",
      "name": "python3"
    },
    "language_info": {
      "codemirror_mode": {
        "name": "ipython",
        "version": 3
      },
      "file_extension": ".py",
      "mimetype": "text/x-python",
      "name": "python",
      "nbconvert_exporter": "python",
      "pygments_lexer": "ipython3",
      "version": "3.12.3"
    },
    "vscode": {
      "interpreter": {
        "hash": "c261aea317cc0286b3b3261fbba9abdec21eaa57589985bb7a274bf54d6cc0a7"
      }
    }
  },
  "nbformat": 4,
  "nbformat_minor": 0
}
