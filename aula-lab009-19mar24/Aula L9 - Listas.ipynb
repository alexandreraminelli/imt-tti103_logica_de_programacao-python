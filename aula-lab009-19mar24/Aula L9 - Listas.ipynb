{
  "nbformat": 4,
  "nbformat_minor": 0,
  "metadata": {
    "colab": {
      "provenance": []
    },
    "kernelspec": {
      "name": "python3",
      "display_name": "Python 3"
    },
    "language_info": {
      "name": "python"
    }
  },
  "cells": [
    {
      "cell_type": "markdown",
      "source": [
        "#**TTI103 - Lógica de Programação**\n",
        "\n",
        "#**Aula L9 - Listas**"
      ],
      "metadata": {
        "id": "oNAE5ZPfjt3g"
      }
    },
    {
      "cell_type": "markdown",
      "source": [
        "#**Introdução**\n",
        "\n",
        "Até o presente momento em nosso curso, trabalhamos com variáveis simples, capazes de armazenar apenas um valor de determnado tipo."
      ],
      "metadata": {
        "id": "kahb9Oa-G6OF"
      }
    },
    {
      "cell_type": "code",
      "source": [],
      "metadata": {
        "id": "ahmYsSzGoYXT"
      },
      "execution_count": null,
      "outputs": []
    },
    {
      "cell_type": "code",
      "source": [],
      "metadata": {
        "id": "YobZcwikollk"
      },
      "execution_count": null,
      "outputs": []
    },
    {
      "cell_type": "code",
      "source": [],
      "metadata": {
        "id": "K1D5CZkro6RL"
      },
      "execution_count": null,
      "outputs": []
    },
    {
      "cell_type": "markdown",
      "source": [
        "Uma **lista** (`<class 'list'>`) em Python é uma sequência de valores de qualquer tipo ou classe tais como `int`, `float`, `bool`, `str` e até mesmo o próprio `list`, entre outros.\n",
        "\n",
        "A criação de uma lista pode ocorrer de diversas formas. A maneira mais simples é envolver os elementos da lista por colchetes (`[]`).\n",
        "\n",
        "Como exemplo, podemos criar uma lista contendo os anos de obtenção das cinco conquistas do Brasil em Copas do Mundo de Futebol (até o momento) da seguinte maneira:"
      ],
      "metadata": {
        "id": "xAvp_AHNKrMb"
      }
    },
    {
      "cell_type": "code",
      "source": [],
      "metadata": {
        "id": "njI5JPw1qFe9"
      },
      "execution_count": null,
      "outputs": []
    },
    {
      "cell_type": "markdown",
      "source": [
        "*IMPORTANTE:* Observe o uso dos colchetes de abertura (`[`) para marcar o início e o de fechamento (`]`) para marcar o final da lista, bem como os elementos separados por vígula.\n",
        "\n",
        "As listas em Python podem conter vários tipos de dados, o que torna possível armazenar coleções heterogêneas de dados."
      ],
      "metadata": {
        "id": "N8LfEuRuqTYT"
      }
    },
    {
      "cell_type": "code",
      "source": [],
      "metadata": {
        "id": "3a6c9vxfqzHk"
      },
      "execution_count": null,
      "outputs": []
    },
    {
      "cell_type": "markdown",
      "source": [
        "Na lista `filme` acima:\n",
        "* o primeiro elemento representa o nome do filme \"De Volta Para o Futuro\" do tipo `str;\n",
        "* o segundo elemento representa o ano de estreia do filme (1985) do tipo `int`;\n",
        "* o terceiro elemento representa o diretor do filme, Robert Zemeckis, do tipo `str`;\n",
        "* o quarto elemento, `['ficção científica', 'aventura']`, é uma lista de gêneros do filme (do tipo `list`)."
      ],
      "metadata": {
        "id": "Z4yaQTA-rFp8"
      }
    },
    {
      "cell_type": "markdown",
      "source": [
        "#**Índices**\n",
        "\n",
        "As lista são chamadas de estruturas sequenciais indexadas, na medida em que seus elementos podem ser acessados sequencialmente utilizando índices. Por convenção do Python, o primeiro elemento da lista tem índice `0`, o segundo tem índice `1`, e assim por diante.\n",
        "\n",
        "*IMPORTANTE:* Observe que, como consequência da convenção de índices do Python, o último elemento da lista `anos_conquistas`, o ano `2002`, tem índice `4`. No entanto, a lista tem comprimento `5`.\n",
        "\n",
        "O acesso a elementos da lista pode ser feito através da sintaxe: `nome_da_lista[indice]`."
      ],
      "metadata": {
        "id": "OEpCn6S3sLls"
      }
    },
    {
      "cell_type": "code",
      "source": [],
      "metadata": {
        "id": "4WLDq2FJs4mM"
      },
      "execution_count": null,
      "outputs": []
    },
    {
      "cell_type": "code",
      "source": [],
      "metadata": {
        "id": "c0sdH3q1tABV"
      },
      "execution_count": null,
      "outputs": []
    },
    {
      "cell_type": "code",
      "source": [],
      "metadata": {
        "id": "LLhRYy4itDvs"
      },
      "execution_count": null,
      "outputs": []
    },
    {
      "cell_type": "code",
      "source": [],
      "metadata": {
        "id": "JvWBRu4ttHwc"
      },
      "execution_count": null,
      "outputs": []
    },
    {
      "cell_type": "markdown",
      "source": [
        "Índices negativos indicam elementos em ordem inversa, sendo o último elemento indicado pelo índice `-1`.\n",
        "\n"
      ],
      "metadata": {
        "id": "hOGQXmvmtOzA"
      }
    },
    {
      "cell_type": "code",
      "source": [],
      "metadata": {
        "id": "QLat80KOtVtM"
      },
      "execution_count": null,
      "outputs": []
    },
    {
      "cell_type": "code",
      "source": [],
      "metadata": {
        "id": "B7_WIZxOtbZs"
      },
      "execution_count": null,
      "outputs": []
    },
    {
      "cell_type": "code",
      "source": [],
      "metadata": {
        "id": "3RlLj7mWtgxj"
      },
      "execution_count": null,
      "outputs": []
    },
    {
      "cell_type": "code",
      "source": [],
      "metadata": {
        "id": "D_efbFohtm2E"
      },
      "execution_count": null,
      "outputs": []
    },
    {
      "cell_type": "markdown",
      "source": [
        "Um erro comum é a utilização de índices inválidos. Esta ocorrência gera a mensagem de erro `list index out of range`."
      ],
      "metadata": {
        "id": "8VuDUOJOtyVo"
      }
    },
    {
      "cell_type": "code",
      "source": [],
      "metadata": {
        "id": "o9Xi6krbt97C"
      },
      "execution_count": null,
      "outputs": []
    },
    {
      "cell_type": "code",
      "source": [],
      "metadata": {
        "id": "mK-CRslouBs7"
      },
      "execution_count": null,
      "outputs": []
    },
    {
      "cell_type": "markdown",
      "source": [
        "#**Comprimento de uma lista**\n",
        "\n",
        "O número de elementos (comprimento) de uma lista pode ser obtido pela função `len()`, abreviatura do termo em inglês *length*, que significa literalmente comprimento."
      ],
      "metadata": {
        "id": "pvQqgtJtuFos"
      }
    },
    {
      "cell_type": "code",
      "source": [],
      "metadata": {
        "id": "UGmn28qvue2g"
      },
      "execution_count": null,
      "outputs": []
    },
    {
      "cell_type": "markdown",
      "source": [
        "#**Modificando elementos de uma lista**\n",
        "\n",
        "Para modificar um elemento de uma lista, basta realizar um comando de atribuição.\n",
        "Por exemplo, se quisermos mudar o nome do filme \"De Volta Para o Futuro\" para a sua versão original em inglês, podemos usar:"
      ],
      "metadata": {
        "id": "TRVgWJ-Hu4jg"
      }
    },
    {
      "cell_type": "code",
      "source": [],
      "metadata": {
        "id": "NhDSitj2wKyB"
      },
      "execution_count": null,
      "outputs": []
    },
    {
      "cell_type": "markdown",
      "source": [
        "#**Adicionando elementos a uma lista**\n",
        "\n",
        "Para adicionar novos elementos ao final de uma lista existente, usamos o método `append()`. Por exemplo, podemos adicionar a companhia produtora e o elenco de \"De Volta Para o Futuro\" à lista `filme` usando:"
      ],
      "metadata": {
        "id": "bhuqhYoVwYiW"
      }
    },
    {
      "cell_type": "code",
      "source": [],
      "metadata": {
        "id": "zZi-SNSNxBuQ"
      },
      "execution_count": null,
      "outputs": []
    },
    {
      "cell_type": "markdown",
      "source": [
        "#**Referências *versus* clones**\n",
        "\n",
        "A atribuição de uma lista armazenada em uma variável `A` a uma segunda variável `B` não cria uma nova lista!\n",
        "\n",
        "Na verdade, as duas variáveis referenciam a mesma lista na memória. Isto significa que alterações na lista `A` afetam diretamente `B` e *vice-versa*."
      ],
      "metadata": {
        "id": "p3KbHts2xwn1"
      }
    },
    {
      "cell_type": "code",
      "source": [],
      "metadata": {
        "id": "jyQETxG4yRee"
      },
      "execution_count": null,
      "outputs": []
    },
    {
      "cell_type": "code",
      "source": [],
      "metadata": {
        "id": "K39da0cDykDa"
      },
      "execution_count": null,
      "outputs": []
    },
    {
      "cell_type": "code",
      "source": [],
      "metadata": {
        "id": "YP1WuCw8y5Hr"
      },
      "execution_count": null,
      "outputs": []
    },
    {
      "cell_type": "markdown",
      "source": [
        "Cada objeto em Python, incluindo listas, possui um identificador exclusivo (número inteiro único) que pode ser acessado usando a função `id()`. No exemplo acima, as listas `A` e `B` possuem o mesmo identificador, confirmando que elas correspondem à mesma lista na memória."
      ],
      "metadata": {
        "id": "vTdOhM88yQ-p"
      }
    },
    {
      "cell_type": "code",
      "source": [],
      "metadata": {
        "id": "ddFpqiAkzrEQ"
      },
      "execution_count": null,
      "outputs": []
    },
    {
      "cell_type": "code",
      "source": [],
      "metadata": {
        "id": "k26GaA1HzvyH"
      },
      "execution_count": null,
      "outputs": []
    },
    {
      "cell_type": "markdown",
      "source": [
        "Em algumas situações, no entanto, precisamos de fato criar uma réplica / clone na memória de uma lista pré-existente.\n",
        "\n",
        "Para isso podemos usar o comando `B = list(A)`. Note que nesse caso alterações posteriores em uma das listas não afetam a sua cópia."
      ],
      "metadata": {
        "id": "SHhbsYIJz5pU"
      }
    },
    {
      "cell_type": "code",
      "source": [],
      "metadata": {
        "id": "KEPSrAn90Eyo"
      },
      "execution_count": null,
      "outputs": []
    },
    {
      "cell_type": "code",
      "source": [],
      "metadata": {
        "id": "5ewvzGjp0TL5"
      },
      "execution_count": null,
      "outputs": []
    },
    {
      "cell_type": "code",
      "source": [],
      "metadata": {
        "id": "11JD2-_n0aBP"
      },
      "execution_count": null,
      "outputs": []
    },
    {
      "cell_type": "code",
      "source": [],
      "metadata": {
        "id": "X9DPcZjM0fYR"
      },
      "execution_count": null,
      "outputs": []
    },
    {
      "cell_type": "code",
      "source": [],
      "metadata": {
        "id": "fHeUaCu30ju3"
      },
      "execution_count": null,
      "outputs": []
    },
    {
      "cell_type": "markdown",
      "source": [
        "#**Concatenação de listas usando +**\n",
        "\n",
        "No Python, é possível gerar uma nova lista a partir da concatenação de duas listas existentes usando o operador de adição `+`.\n",
        "\n",
        "*IMPORTANTE:* As listas originais são preservadas e uma nova lista é criada com um total de elementos igual a soma dos comprimentos das duas primeiras."
      ],
      "metadata": {
        "id": "slC8g5UV0lQH"
      }
    },
    {
      "cell_type": "code",
      "source": [],
      "metadata": {
        "id": "jw6G2T6b08XA"
      },
      "execution_count": null,
      "outputs": []
    },
    {
      "cell_type": "code",
      "source": [],
      "metadata": {
        "id": "85kBifQF2Hnp"
      },
      "execution_count": null,
      "outputs": []
    },
    {
      "cell_type": "markdown",
      "source": [
        "*CUIDADO:* Note que a concatenação não possui propriedade comutativa, pois a ordem dos elementos na lista de saída depende da ordem dos operandos."
      ],
      "metadata": {
        "id": "K4VY8fqZ2L6_"
      }
    },
    {
      "cell_type": "code",
      "source": [],
      "metadata": {
        "id": "G7RMkhr33Xl4"
      },
      "execution_count": null,
      "outputs": []
    },
    {
      "cell_type": "code",
      "source": [],
      "metadata": {
        "id": "V5JfsZR13gdG"
      },
      "execution_count": null,
      "outputs": []
    },
    {
      "cell_type": "markdown",
      "source": [
        "Se as duas listas `A` e `B` possuem elementos em comum, após a concatenação estes serão repetidos na lista produzida."
      ],
      "metadata": {
        "id": "2CvAEqag2Qjw"
      }
    },
    {
      "cell_type": "code",
      "source": [],
      "metadata": {
        "id": "-ZQsX74B35HC"
      },
      "execution_count": null,
      "outputs": []
    },
    {
      "cell_type": "markdown",
      "source": [
        "#**Método `append` *versus* concatenação de listas**\n",
        "\n",
        "Os três trechos de código a seguir produzem o mesmo efeito:"
      ],
      "metadata": {
        "id": "C1fX-ICe4L5d"
      }
    },
    {
      "cell_type": "code",
      "source": [],
      "metadata": {
        "id": "GWCzF48-4Ymf"
      },
      "execution_count": null,
      "outputs": []
    },
    {
      "cell_type": "code",
      "source": [],
      "metadata": {
        "id": "_HZMPoS_4iYq"
      },
      "execution_count": null,
      "outputs": []
    },
    {
      "cell_type": "code",
      "source": [],
      "metadata": {
        "id": "scKbX15M4s3p"
      },
      "execution_count": null,
      "outputs": []
    },
    {
      "cell_type": "markdown",
      "source": [
        "*NOTA:* Apesar dos códigos anteriores produzirem o mesmo resultado, é preferível utilizar o método `append()`. De fato, a concatenação gera uma cópia da lista toda e a variável `sabores` passa a referenciar essa nova lista criada. Em outras palavras, a concatenação é uma operação mais custosa."
      ],
      "metadata": {
        "id": "r8vK7prX45zm"
      }
    },
    {
      "cell_type": "markdown",
      "source": [
        "#**Repetição de listas usando `*`**\n",
        "\n",
        "Em Python podemos multiplicar uma lista por um número inteiro. O efeito é a criação de uma nova lista contendo a repetição dos elementos da lista original."
      ],
      "metadata": {
        "id": "kklXNina5pYT"
      }
    },
    {
      "cell_type": "code",
      "source": [],
      "metadata": {
        "id": "0Gg5VrXJ5oSa"
      },
      "execution_count": null,
      "outputs": []
    },
    {
      "cell_type": "markdown",
      "source": [
        "#**Fatias de listas**\n",
        "\n",
        "Podemos criar uma sublista formada por uma cópia de um trecho de elementos consecutivos de uma lista original através do recurso de fatiamento de listas. Para isso, usamos a seguinte sintaxe: `nome_da_lista[inicio:fim]`.\n",
        "\n",
        "Caso omitido, o parâmetro `inicio` é assumido como sendo `0`; quando `fim` é omitido, é assumido como sendo `len(lista)`.\n",
        "\n",
        "Alem disso, `inicio` indica o índice do primeiro elemento que será incluído no trecho copiado, mas o último elemento incluído no trecho é aquele dado pelo índice `fim-1`. Ou seja, o elemento cujo índice é `fim` nunca é incluído no trecho copiado."
      ],
      "metadata": {
        "id": "dCGQ_L5B6jl7"
      }
    },
    {
      "cell_type": "code",
      "source": [],
      "metadata": {
        "id": "bxjq2ddh45Iy"
      },
      "execution_count": null,
      "outputs": []
    },
    {
      "cell_type": "code",
      "source": [],
      "metadata": {
        "id": "4gQqNeVF8v-7"
      },
      "execution_count": null,
      "outputs": []
    },
    {
      "cell_type": "code",
      "source": [],
      "metadata": {
        "id": "6Gi-c5QM9NR_"
      },
      "execution_count": null,
      "outputs": []
    },
    {
      "cell_type": "code",
      "source": [],
      "metadata": {
        "id": "QyU9OxO89SVL"
      },
      "execution_count": null,
      "outputs": []
    },
    {
      "cell_type": "code",
      "source": [],
      "metadata": {
        "id": "xHH6wKGG9UoZ"
      },
      "execution_count": null,
      "outputs": []
    },
    {
      "cell_type": "markdown",
      "source": [
        "Em especial, o comando `lista[:]` (ou `lista[0:len(lista)]`) gera uma cópia da lista toda, podendo ser usado em operações de clonagem de uma lista, substituindo o comando `list(lista)`."
      ],
      "metadata": {
        "id": "Mt3k0uFV9bUG"
      }
    },
    {
      "cell_type": "code",
      "source": [],
      "metadata": {
        "id": "tONJi6Y79nZq"
      },
      "execution_count": null,
      "outputs": []
    },
    {
      "cell_type": "code",
      "source": [],
      "metadata": {
        "id": "QEq4VBgC9zey"
      },
      "execution_count": null,
      "outputs": []
    },
    {
      "cell_type": "markdown",
      "source": [
        "#**Remoção em listas**\n",
        "\n",
        "As remoções de elementos em listas podem ser feitas usando o comando `del` ou o método `pop`.\n",
        "A sintaxe do comadno `del` é `del lista[indice]`."
      ],
      "metadata": {
        "id": "q2jBEk8t-F2T"
      }
    },
    {
      "cell_type": "code",
      "source": [],
      "metadata": {
        "id": "nrnGqhQw-XjV"
      },
      "execution_count": null,
      "outputs": []
    },
    {
      "cell_type": "markdown",
      "source": [
        "A sintaxe do método `pop` é `lista.pop(indice)`.\n",
        "A diferença com relação a `del` é que `pop` devolve o valor removido da lista, que pode, por exemplo, ser atribuído a uma variável. Caso `indice` seja omitido, o último elemento é removido."
      ],
      "metadata": {
        "id": "5sUfH1Yg-nte"
      }
    },
    {
      "cell_type": "code",
      "source": [],
      "metadata": {
        "id": "LbKDeuv9-60K"
      },
      "execution_count": null,
      "outputs": []
    },
    {
      "cell_type": "code",
      "source": [],
      "metadata": {
        "id": "R-1GxNBo_NGT"
      },
      "execution_count": null,
      "outputs": []
    }
  ]
}