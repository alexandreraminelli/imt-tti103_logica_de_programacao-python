{
  "cells": [
    {
      "cell_type": "markdown",
      "metadata": {
        "id": "oNAE5ZPfjt3g"
      },
      "source": [
        "#**TTI103 - Lógica de Programação**\n",
        "\n",
        "#**Aula L13 - Estruturas de Repetição 01**"
      ]
    },
    {
      "cell_type": "markdown",
      "metadata": {
        "id": "kahb9Oa-G6OF"
      },
      "source": [
        "#**Estruturas de repetição no Python**\n",
        "\n",
        "* Estrutura Enquanto-Faça: no Python, é implementada pela instrução `while` e possui a seguinte sintaxe:"
      ]
    },
    {
      "cell_type": "code",
      "execution_count": null,
      "metadata": {
        "id": "ahmYsSzGoYXT"
      },
      "outputs": [],
      "source": [
        "# Estrutura Enquanto-Faça\n",
        "while <condição>:\n",
        "  <comandos a serem repetidos>"
      ]
    },
    {
      "cell_type": "markdown",
      "metadata": {
        "id": "jzFoqxDTqEoM"
      },
      "source": [
        "* Estrutura Para-até-Faça: no Python, é implementada pelo comando `for`. Em algumas linguagens de programação como C e Java, o\n",
        "comando `for` é utilizado em conjunto com uma variável do tipo inteiro (ou outra enumerável), que funciona como um contador que controla a quantidade de vezes que o laço será repetido. No Python, o comando `for` só funciona com tipos de dados que permitem iterações (chamados iteráveis) e o tipo inteiro não possui essa característica. Assim, a sintaxe do comando `for` em Python tem a forma:\n"
      ]
    },
    {
      "cell_type": "code",
      "execution_count": null,
      "metadata": {
        "id": "YobZcwikollk"
      },
      "outputs": [],
      "source": [
        "for <item> in <conjunto de itens>:\n",
        "  <comandos a serem repetidos>"
      ]
    },
    {
      "cell_type": "markdown",
      "metadata": {
        "id": "xAvp_AHNKrMb"
      },
      "source": [
        "#**Laços para percorrer os elementos de uma lista**\n",
        "\n",
        "Para ilustrar as formas mais usuais de percorrer os elementos de uma lista, vamos utilizar a lista que contém os anos de obtenção das cinco conquistas do Brasil em Copas do Mundo de Futebol até o momento (já usada na Aula L9)."
      ]
    },
    {
      "cell_type": "code",
      "execution_count": 2,
      "metadata": {
        "id": "njI5JPw1qFe9"
      },
      "outputs": [
        {
          "name": "stdout",
          "output_type": "stream",
          "text": [
            "[1958, 1962, 1970, 1994, 2002]\n"
          ]
        }
      ],
      "source": [
        "anos_conquistas = [1958, 1962, 1970, 1994, 2002]\n",
        "print(anos_conquistas)"
      ]
    },
    {
      "cell_type": "markdown",
      "metadata": {
        "id": "N8LfEuRuqTYT"
      },
      "source": [
        "Como já sabemos, é possível usar uma variável inteira para indicar a posição do elemento na lista. Assim, podemos usar a seguinte construção com a estrutura `while`para percorrer os elementos da lista `anos_conquistas`:"
      ]
    },
    {
      "cell_type": "code",
      "execution_count": null,
      "metadata": {
        "id": "3a6c9vxfqzHk"
      },
      "outputs": [],
      "source": [
        "i = 0\n",
        "while i < len(anos_conquistas):\n",
        "  print(anos_conquistas[i])\n",
        "  i += 1"
      ]
    },
    {
      "cell_type": "markdown",
      "metadata": {
        "id": "Z4yaQTA-rFp8"
      },
      "source": [
        "Na célula acima, observe que a variável `i` recebe o valor zero que corresponde ao primeiro índice e, enquanto o índice for menor que o comprimento da lista (`= len(anos_conquistas)`), o elemento de índice `i` é impresso.\n",
        "\n",
        "Se optarmos por usar a estrutura `for`, podemos usar a sintaxe:"
      ]
    },
    {
      "cell_type": "code",
      "execution_count": 4,
      "metadata": {
        "id": "DpV7auuXu4xQ"
      },
      "outputs": [
        {
          "name": "stdout",
          "output_type": "stream",
          "text": [
            "1958\n",
            "1962\n",
            "1970\n",
            "1994\n",
            "2002\n"
          ]
        }
      ],
      "source": [
        "for i in range(len(anos_conquistas)):\n",
        "  print(anos_conquistas[i])"
      ]
    },
    {
      "cell_type": "markdown",
      "metadata": {
        "id": "jYbkj4wtvCSE"
      },
      "source": [
        "A série retornada pelo comando `range(len(lista))` é um objeto iterável do tipo `range` e os elementos nela contidos serão gerados sob demanda durante o for, evitando o desperdício de memória.\n",
        "\n",
        "Além disso, note que não há a necessidade de:\n",
        "\n",
        "* inicializar o valor da variável de índice `i` (com `while`, foi preciso usar `i = 0` antes da estrutura de repetição);\n",
        "\n",
        "* atualizar o valor da variável de índice `i` (com `while`, foi preciso usar `i += 1` dentro da estrutura de repetição).\n",
        "\n",
        "O Python possui ainda uma segunda sintaxe mais compacta que pode ser empregada para acessar diretamente os elementos de uma lista sem mencionar explicitamente os seus índices."
      ]
    },
    {
      "cell_type": "code",
      "execution_count": 5,
      "metadata": {
        "id": "XHyuikVfw-z_"
      },
      "outputs": [
        {
          "name": "stdout",
          "output_type": "stream",
          "text": [
            "1958\n",
            "1962\n",
            "1970\n",
            "1994\n",
            "2002\n"
          ]
        }
      ],
      "source": [
        "for ano in anos_conquistas:\n",
        "  print(ano)"
      ]
    },
    {
      "cell_type": "markdown",
      "metadata": {
        "id": "OEpCn6S3sLls"
      },
      "source": [
        "#**Exercício 01**\n",
        "\n",
        "Elabore um programa Python que exiba todos os números pares entre zero e um número `N` fornecido pelo usuário.\n",
        "\n",
        "**Requisito:** Certifique-se de que o usuário tenha digitado um número positivo, inteiro ou real. Pense em qual caso engloba o outro!"
      ]
    },
    {
      "cell_type": "code",
      "execution_count": 8,
      "metadata": {
        "id": "hzNxMzS3z9cX"
      },
      "outputs": [
        {
          "name": "stdout",
          "output_type": "stream",
          "text": [
            "Os números pares entre 0 e 20 são: 0 2 4 6 8 10 12 14 16 18 "
          ]
        }
      ],
      "source": [
        "# Exercício 01\n",
        "while True:\n",
        "    try:\n",
        "        num = int(input('Digite um número natural: '))\n",
        "    \n",
        "        if num >= 0:\n",
        "            break\n",
        "        print(f'{num} não é uma entrada válida! Tente novamente!')\n",
        "    except:\n",
        "        print(f'Não é uma entrada válida! Tente novamente!')\n",
        "\n",
        "print(f'Os números pares entre 0 e {num} são: ', end = '')\n",
        "for v in range(num):\n",
        "    if v % 2 == 0:\n",
        "        print(v, end=' ')"
      ]
    },
    {
      "cell_type": "markdown",
      "metadata": {
        "id": "KaEOD61l1HCQ"
      },
      "source": [
        "#**Exercício 02**\n",
        "\n",
        "Elabore um programa Python que calcule e exiba o valor da série $S$ a partir de $x$ e $n$ fornecidos pelo usuário:\n",
        "\n",
        "$$S=\\ln x+x+\\frac{x^2}{2}+\\frac{x^3}{3}+\\cdots+\\frac{x^n}{n}$$\n",
        "\n",
        "**Requisitos:**\n",
        "* Uma vez que a série envolve a função $\\ln x$, devems garantir que $x>0$.\n",
        "* $n$ é um inteiro positivo. Assim, ainda que o usuário tenha fornecido um valor real, o programa deve convertê-lo para o tipo inteiro, usando o comando `int()`.\n",
        "* O valor da série deve ser exibido com precisão de três casas decimais.\n",
        "\n"
      ]
    },
    {
      "cell_type": "code",
      "execution_count": 6,
      "metadata": {
        "id": "W8GqssGp2vNg"
      },
      "outputs": [
        {
          "name": "stdout",
          "output_type": "stream",
          "text": [
            "O valor da série S é 1952392109896760632687569123388948480.000\n"
          ]
        }
      ],
      "source": [
        "# Exercício 02\n",
        "\n",
        "# Entrada x\n",
        "while True:\n",
        "    try:\n",
        "        x = float(input('Digite o valor de x (x > 0): '))\n",
        "        if x > 0:\n",
        "            break\n",
        "        print(f'{x} é menor ou igual a 0. Tente novamente!')\n",
        "    except:\n",
        "        print('Erro! Entrada inválida! Tente novamente!')\n",
        "# Entrada n\n",
        "while True:\n",
        "    try:\n",
        "        n = int(input('Digite o valor de n (número natural): '))\n",
        "        if n >= 0:\n",
        "            break\n",
        "        print(f'{n} não é um número natural. Tente novamente!')\n",
        "    except:\n",
        "        print('Entrada inválida! Tente novamente!')\n",
        "\n",
        "# Cálculo\n",
        "s = x + x\n",
        "for _ in range(1, n):\n",
        "    s += (x ** _) / _\n",
        "\n",
        "print(f'O valor da série S é {s:.3f}')"
      ]
    },
    {
      "cell_type": "markdown",
      "metadata": {
        "id": "o-Jj_zylXNnN"
      },
      "source": [
        "Para ajudar na resolução do próximo exercício, vamos empregar a função `choice` do módulo `random`. Essa função escolhe (pseudo)aleatoriamente um elemento de uma lista à cada execução. Veja um exemplo de uso da função na célula a seguir. Execute-o algumas vezes!"
      ]
    },
    {
      "cell_type": "code",
      "execution_count": 15,
      "metadata": {
        "id": "EBQUDoZIX_lf"
      },
      "outputs": [
        {
          "name": "stdout",
          "output_type": "stream",
          "text": [
            "1ª escolha = maçã\n",
            "2ª escolha = maçã\n",
            "3ª escolha = banana\n",
            "4ª escolha = cereja\n",
            "5ª escolha = cereja\n",
            "6ª escolha = cereja\n",
            "7ª escolha = maçã\n",
            "8ª escolha = banana\n",
            "9ª escolha = cereja\n",
            "10ª escolha = banana\n"
          ]
        }
      ],
      "source": [
        "from random import choice\n",
        "\n",
        "frutas = ['maçã', 'banana', 'cereja']\n",
        "for i in range(10):\n",
        "  print(f'{i+1}ª escolha = {choice(frutas)}')"
      ]
    },
    {
      "cell_type": "markdown",
      "metadata": {
        "id": "Aai71pygahp-"
      },
      "source": [
        "Também será útil empregar o método `count` das listas Python. O método retorna o número de ocorrências de determinado elemento em uma lista. Veja o exemplo a seguir."
      ]
    },
    {
      "cell_type": "code",
      "execution_count": 17,
      "metadata": {
        "id": "QCIfYUEobC4u"
      },
      "outputs": [
        {
          "name": "stdout",
          "output_type": "stream",
          "text": [
            "O número 3 aparece na lista_num 4 vezes.\n",
            "O número 0 aparece na lista_num 1 vezes.\n",
            "O número 5 aparece na lista_num 3 vezes.\n"
          ]
        }
      ],
      "source": [
        "lista_num = [3, 2, 3, 3, -1, 0, 3, 4, 5, 5, 5]\n",
        "print(f'O número 3 aparece na lista_num {lista_num.count(3)} vezes.')\n",
        "print(f'O número 0 aparece na lista_num {lista_num.count(0)} vezes.')\n",
        "print(f'O número 5 aparece na lista_num {lista_num.count(5)} vezes.')"
      ]
    },
    {
      "cell_type": "markdown",
      "metadata": {
        "id": "CtoqrTEm5RNR"
      },
      "source": [
        "#**Exercício 03**\n",
        "\n",
        "Elabore um programa Python para gerenciar uma eleição. Os votos válidos são representados pelos números 1, 2 e 3, cada um correspondendo a um candidato. O voto em branco é representado pelo número 0 e o voto nulo, pelo número –1. O fluxograma deverá processar $N$ respostas da votação, calcular e exibir:\n",
        "\n",
        "**a)** o total de votos para cada candidato;\n",
        "\n",
        "**b)** o total de votos em branco;\n",
        "\n",
        "**c)** o total de votos nulos;\n",
        "\n",
        "**d)** a porcentagem de votos válidos do candidato vencedor.\n",
        "\n",
        "**Requisitos:**\n",
        "* Use uma estrutura de repetição em conjunto com a função `choice` para gerar uma lista com os $N$ votos.\n",
        "* Use o método `count` para totalizar os votos.\n"
      ]
    },
    {
      "cell_type": "code",
      "execution_count": 1,
      "metadata": {
        "id": "_Ekm8QpcXKMF"
      },
      "outputs": [
        {
          "name": "stdout",
          "output_type": "stream",
          "text": [
            "Votação em andamento...\n",
            "________________Apuração das urnas________________\n",
            "Candidato A: 1222\n",
            "Candidato B: 1202\n",
            "Candidato C: 1186\n",
            "\n",
            "Votos válidos: 3610\n",
            "Votos em branco: 1161\n",
            "Votos nulos: -1\n",
            "     ________________________________________     \n",
            "                     Vencedor                     \n",
            "Candidato B foi eleito com 33.9% dos votos válidos!\n"
          ]
        }
      ],
      "source": [
        "# Exercício 03\n",
        "from time import sleep;\n",
        "from random import choice;\n",
        "\n",
        "candidatoA = 1\n",
        "candidatoB = 2\n",
        "candidatoC = 3\n",
        "opcoes_voto_valido = [candidatoA, candidatoB, candidatoC]\n",
        "\n",
        "brancos = 0\n",
        "nulos = -1\n",
        "\n",
        "opcoes_voto = opcoes_voto_valido + [brancos, nulos]\n",
        "\n",
        "urnas = []\n",
        "\n",
        "# Quantidade de votos\n",
        "while True:\n",
        "    try:\n",
        "        quant_votos = int(input('Quantas pessoas irão votar? '))\n",
        "        if quant_votos > 0:\n",
        "            break\n",
        "        print('Digite um número positivo!')\n",
        "    except:\n",
        "        print('Entrada inválida! Tente novamente!')\n",
        "\n",
        "# Espera\n",
        "print('Votação em andamento...')\n",
        "sleep(2)\n",
        "\n",
        "for _ in range(quant_votos):\n",
        "    urnas.append(choice(opcoes_voto))\n",
        "\n",
        "# Apuração das urnas\n",
        "print(f'{\"Apuração das urnas\":_^50}')\n",
        "\n",
        "# Votos válidos\n",
        "quant_candidatoA = urnas.count(candidatoA)\n",
        "print(f'Candidato A: {quant_candidatoA}')\n",
        "\n",
        "quant_candidatoB = urnas.count(candidatoB)\n",
        "print(f'Candidato B: {quant_candidatoB}')\n",
        "\n",
        "quant_candidatoC = urnas.count(candidatoC)\n",
        "print(f'Candidato C: {quant_candidatoC}')\n",
        "\n",
        "quant_votos_validos = quant_candidatoA + quant_candidatoB + quant_candidatoC\n",
        "print(f'\\nVotos válidos: {quant_votos_validos}')\n",
        "\n",
        "# Votos inválidos\n",
        "quant_brancos = urnas.count(brancos)\n",
        "print('Votos em branco:', quant_brancos)\n",
        "\n",
        "quant_nulos = urnas.count(nulos) \n",
        "print('Votos nulos:', nulos)\n",
        "\n",
        "# RESULTADO\n",
        "print(' '*5 + '_'*40 + ' '*5)\n",
        "print(f'{\"Vencedor\":^50}')\n",
        "sleep(0.5)\n",
        "\n",
        "# A\n",
        "if quant_candidatoA > quant_candidatoB and quant_candidatoA > quant_candidatoC:\n",
        "    vencedor = \"Candidato B\"\n",
        "    vencedor_quant = quant_candidatoA\n",
        "# B\n",
        "elif quant_candidatoB > quant_candidatoA and quant_candidatoB > quant_candidatoC:\n",
        "    vencedor = \"Candidato B\"\n",
        "    vencedor_quant = quant_candidatoB\n",
        "# C\n",
        "elif quant_candidatoC > quant_candidatoA and quant_candidatoC > quant_candidatoB:\n",
        "    vencedor = \"Candidato C\"\n",
        "    vencedor_quant = quant_candidatoC\n",
        "porcentagem_vencedor = vencedor_quant / quant_votos_validos\n",
        "\n",
        "print(f\"{vencedor} foi eleito com {porcentagem_vencedor * 100:.1f}% dos votos válidos!\")"
      ]
    },
    {
      "cell_type": "markdown",
      "metadata": {
        "id": "rBgjlHNtk9JU"
      },
      "source": [
        "O próximo exercício vai usar o módulo `Turtle`. Para isso, instale-o executando a célula a seguir."
      ]
    },
    {
      "cell_type": "code",
      "execution_count": null,
      "metadata": {
        "id": "nj0iBrwLlD5d"
      },
      "outputs": [],
      "source": [
        "!pip install ColabTurtlePlus\n",
        "from ColabTurtlePlus.Turtle import *"
      ]
    },
    {
      "cell_type": "markdown",
      "metadata": {
        "id": "n7c-z0Fokg2F"
      },
      "source": [
        "#**Exercício 04**\n",
        "\n",
        "Elabore um programa Python que faça com que Leonardo, Michelangelo, Donatelo e Rafael disputem um corrida! No início, as tartarugas devem se posicionar no extremo esquerdo da tela e então percorrer distâncias sorteadas aleatoriamente entre os inteiros 1 e 10. A tartaruga que chegar primeiro atingie o extremo direito da janela vence! Nesse instante, o programa deve encerrar os sorteios."
      ]
    },
    {
      "cell_type": "code",
      "execution_count": null,
      "metadata": {
        "id": "-qbkHq-NmOB0"
      },
      "outputs": [],
      "source": [
        "# Exercício 04"
      ]
    }
  ],
  "metadata": {
    "colab": {
      "provenance": []
    },
    "kernelspec": {
      "display_name": "Python 3",
      "name": "python3"
    },
    "language_info": {
      "codemirror_mode": {
        "name": "ipython",
        "version": 3
      },
      "file_extension": ".py",
      "mimetype": "text/x-python",
      "name": "python",
      "nbconvert_exporter": "python",
      "pygments_lexer": "ipython3",
      "version": "3.12.1"
    }
  },
  "nbformat": 4,
  "nbformat_minor": 0
}
