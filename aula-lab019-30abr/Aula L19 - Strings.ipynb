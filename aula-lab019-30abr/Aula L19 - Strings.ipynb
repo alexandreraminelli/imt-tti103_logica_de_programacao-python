{
  "cells": [
    {
      "cell_type": "markdown",
      "metadata": {
        "id": "eukAJhnq3T1T"
      },
      "source": [
        "#**TTI103 - Lógica de Programação**\n",
        "\n",
        "#**Aula L19 - Strings**"
      ]
    },
    {
      "cell_type": "markdown",
      "metadata": {
        "id": "WaIyvXLa38Xo"
      },
      "source": [
        "##**Exercício 01 – Gerando o *user name***\n",
        "\n",
        "Em uma universidade, à cada estudante é atribuído um user name necessário para o acesso à rede discente. Como parte de seu estágio no Departamento de Tecnologia da Informação da universidade, foi-lhe atribuída a tarefa de escrever um programa responsável pela geração dos nomes de usuário para os estudantes. As regras para a construção são vistas a seguir:\n",
        "\n",
        "* Selecione os três primeiros caracteres do nome do estudante (caso o nome possua menos de três caracteres, use o nome completo);\n",
        "\n",
        "* Selecione os três primeiros caracteres do sobrenome do estudante (caso o sobrenome possua menos de três caracteres, use o sobrenome completo);\n",
        "\n",
        "* Selecione os três últimos caracteres do registro acadêmico [RA ou ID] do estudante (caso o registro acadêmico ou ID possua menos de três caracteres, use o registro completo);\n",
        "\n",
        "* O *user name* é criado pela concatenação dos três conjuntos de caracteres (em caixa baixa).\n",
        "\n",
        "Para a criação do programa, modularize seu código:\n",
        "\n",
        "**a)** Crie uma função *gera_login* que recebe como parâmetros o nome, o sobrenome e o registro acadêmico de um estudante e retorna o user name criado.\n"
      ]
    },
    {
      "cell_type": "code",
      "execution_count": 10,
      "metadata": {
        "id": "T6hD6HtbhvmY"
      },
      "outputs": [],
      "source": [
        "# Função gera_login\n",
        "def gera_login(nome, sobrenome, ra):\n",
        "    return (nome[:3] + sobrenome[:3] + ra[-3:]).lower()"
      ]
    },
    {
      "cell_type": "markdown",
      "metadata": {
        "id": "9H4LxlTAhykX"
      },
      "source": [
        "**b)** Elabore um programa que permita a entrada de dados de um estudante e exiba o respectivo user name."
      ]
    },
    {
      "cell_type": "code",
      "execution_count": 11,
      "metadata": {
        "id": "JbFcLo9hh2SX"
      },
      "outputs": [
        {
          "name": "stdout",
          "output_type": "stream",
          "text": [
            "Seu username é aleram250.\n"
          ]
        }
      ],
      "source": [
        "# Programa\n",
        "nome = input('Nome do estudante:')\n",
        "sobrenome = input('Sobrenome do estudante: ')\n",
        "ra = input(\"RA do estudante (sem ponto e sem traço): \")\n",
        "\n",
        "username = gera_login(nome, sobrenome, ra)\n",
        "\n",
        "print(f'Seu username é {username}.')"
      ]
    },
    {
      "cell_type": "markdown",
      "metadata": {
        "id": "SMMs32Hih5VO"
      },
      "source": [
        "##**Exercício 02 - Validação de senha**\n",
        "\n",
        "Continuando seu trabalho no Departamento de TI da universidade, sua nova tarefa é a criação de um programa que valide a escolha de senha de cada estudante para o acesso à rede de computadores. Quando da criação da senha, o estudante foi comunicado de que a senha escolhida devia:\n",
        "\n",
        "* Ser formada por, no mínimo, sete caracteres;\n",
        "* Conter ao menos uma letra maiúscula;\n",
        "* Conter ao menos uma letra minúscula;\n",
        "* Conter ao menos um dígito numérico.\n",
        "\n",
        "Para a criação do programa, modularize seu código:\n",
        "\n",
        "**a)** Crie uma função *valida_senha* que recebe como parâmetro a senha do usuário e retorna *True* se a senha é válida ou *False*, caso contrário."
      ]
    },
    {
      "cell_type": "code",
      "execution_count": 1,
      "metadata": {
        "id": "LS3gBig41QyB"
      },
      "outputs": [],
      "source": [
        "# Função valida_senha\n",
        "def valida_senha(senha):\n",
        "    senha_ok = True\n",
        "    # Verificar se tem 7 ou + caracteres\n",
        "    if len(senha) <= 7:\n",
        "        print('A senha tem que ter no mínimo 7 caracteres.')\n",
        "        senha_ok = False\n",
        "    # Verificar se tem maiusculas, minusculas e numero\n",
        "    maiusculas = minusculas = numeros = False\n",
        "    for c in senha:\n",
        "        if c.isupper():\n",
        "            maiusculas = True\n",
        "        if c.islower():\n",
        "            minusculas = True\n",
        "        if c.isdigit():\n",
        "            numeros = True\n",
        "\n",
        "    if not maiusculas:\n",
        "        print('A senha tem que ter pelo menos uma letra maiúscula.')\n",
        "        senha_ok = False\n",
        "    if not minusculas:\n",
        "        print('A senha tem que ter pelo menos uma letra minúscula.')\n",
        "        senha_ok = False\n",
        "    if not numeros:\n",
        "        print('A senha tem que ter pelo menos um algarismo numérico.')\n",
        "        senha_ok = False\n",
        "    \n",
        "    if senha_ok:\n",
        "        return True\n",
        "    else:\n",
        "        return False\n",
        "\n",
        "# https://www.w3schools.com/python/python_strings_methods.asp"
      ]
    },
    {
      "cell_type": "markdown",
      "metadata": {
        "id": "kTSNZ6RKibmf"
      },
      "source": [
        "**b)** Elabore um programa que solicite a digitação da senha. Caso se trate de uma senha válida, o programa deve exibir a mensagem “Senha validada”. Caso seja inválida, o processo de entrada deve se repetir até que uma senha válida seja informada."
      ]
    },
    {
      "cell_type": "code",
      "execution_count": 3,
      "metadata": {
        "id": "3oedrWboiYY_"
      },
      "outputs": [
        {
          "name": "stdout",
          "output_type": "stream",
          "text": [
            "A senha tem que ter no mínimo 7 caracteres.\n",
            "A senha tem que ter pelo menos uma letra maiúscula.\n",
            "A senha tem que ter pelo menos um algarismo numérico.\n",
            "-----------------------------------------------------\n",
            "A senha tem que ter no mínimo 7 caracteres.\n",
            "A senha tem que ter pelo menos uma letra maiúscula.\n",
            "A senha tem que ter pelo menos uma letra minúscula.\n",
            "-----------------------------------------------------\n",
            "A senha tem que ter no mínimo 7 caracteres.\n",
            "A senha tem que ter pelo menos uma letra maiúscula.\n",
            "A senha tem que ter pelo menos uma letra minúscula.\n",
            "-----------------------------------------------------\n",
            "A senha tem que ter pelo menos uma letra maiúscula.\n",
            "A senha tem que ter pelo menos uma letra minúscula.\n",
            "-----------------------------------------------------\n",
            "A senha tem que ter pelo menos uma letra minúscula.\n",
            "-----------------------------------------------------\n",
            "_____________________________________________________\n",
            "Senha criada com sucesso.\n"
          ]
        }
      ],
      "source": [
        "# Programa\n",
        "while True:\n",
        "\n",
        "    senha = input('Crie uma senha:')\n",
        "    senha_ok = valida_senha(senha)\n",
        "    if senha_ok:\n",
        "        break\n",
        "    print('-' * 53)\n",
        "\n",
        "print('_' * 53)\n",
        "print('Senha criada com sucesso.')"
      ]
    },
    {
      "cell_type": "markdown",
      "metadata": {
        "id": "my2vbFJ8imjo"
      },
      "source": [
        "##**Exercício 03 – Vogais e consoantes**\n",
        "\n",
        "Escreva um programa que peça ao usuário a entrada de uma string (uma frase, por exemplo) e exiba o número de vogais e consoantes presentes nela. Para tanto:\n",
        "\n",
        "**a)** Crie uma função *conta_vogais* que recebe como parâmetro uma *string* e retorna o número de vogais nela contida."
      ]
    },
    {
      "cell_type": "code",
      "execution_count": 15,
      "metadata": {
        "id": "bYt1iwPyilw2"
      },
      "outputs": [],
      "source": [
        "# Função conta_vogais\n",
        "def conta_vogais(string):\n",
        "    vogais = \"aeiou\"\n",
        "    vogais_count = 0\n",
        "    for l in string.lower():\n",
        "        if l in vogais:\n",
        "            vogais_count += 1\n",
        "    return vogais_count\n"
      ]
    },
    {
      "cell_type": "markdown",
      "metadata": {
        "id": "4K02pSgw_BUA"
      },
      "source": [
        "**b)** Crie uma função *conta_consoantes* que recebe como parâmetro uma *string* e retorna o número de consoantes nela contida."
      ]
    },
    {
      "cell_type": "code",
      "execution_count": 16,
      "metadata": {
        "id": "cT9unCeIjOwY"
      },
      "outputs": [],
      "source": [
        "# Função conta_consoantes\n",
        "def conta_consoantes(string):\n",
        "    consoantes = \"bcdfghjklmnpqrstvwxyz\"\n",
        "    consoantes_count = 0\n",
        "    for l in string.lower():\n",
        "        if l in consoantes:\n",
        "            consoantes_count += 1\n",
        "    return consoantes_count"
      ]
    },
    {
      "cell_type": "markdown",
      "metadata": {
        "id": "Cq70n8m7_EEo"
      },
      "source": [
        "**c)** Construa o programa que recebe uma *string* do usuário e, usando as funções dos itens anteriores, exibe o número de vogais e consoantes nela presentes."
      ]
    },
    {
      "cell_type": "code",
      "execution_count": 18,
      "metadata": {
        "id": "30jdsVYdjRsW"
      },
      "outputs": [
        {
          "name": "stdout",
          "output_type": "stream",
          "text": [
            "_________________________\n",
            "A frase digitada tem:\n",
            " -2 vogais\n",
            " -10 consoantes\n"
          ]
        }
      ],
      "source": [
        "# Programa\n",
        "frase = input('Digite uma frase: ')\n",
        "\n",
        "print('_' * 25)\n",
        "print('A frase digitada tem:')\n",
        "print(f'-{conta_vogais(frase)} vogais')\n",
        "print(f'-{conta_consoantes(frase)} consoantes')"
      ]
    },
    {
      "cell_type": "markdown",
      "metadata": {
        "id": "TZW5nhe9jTlx"
      },
      "source": [
        "##**Exercício 04 – Pig Latin (“Latim porco”, em uma tradução livre)**\n",
        "\n",
        "Escreva um programa que solicita uma frase como entrada e a traduza para o “Latim porco”. Em uma de suas versões, a tradução de uma palavra para o “Latim porco” se dá em duas etapas:\n",
        "\n",
        "* Remoção da primeira letra da palavra e inserção dessa ao final;\n",
        "* Concatenar “ay” à palavra.\n",
        "\n",
        "Veja um exemplo:\n",
        "\n",
        "**Frase original:** Eu quero ver o oco (Refrão de “Eu quero ver o oco”, sucesso dos Raimundos (1995)\n",
        "\n",
        "**Frase em \"latim porco\":** ueay ueroqay ervay oay cooay\n",
        "\n",
        "Para a criação do programa, modularize seu código:\n",
        "\n",
        "**a)** Crie uma função *pig_latin* que recebe como parâmetro uma frase e retorna sua tradução para o “latim porco”."
      ]
    },
    {
      "cell_type": "code",
      "execution_count": null,
      "metadata": {
        "id": "_wqRzUd9kBnB"
      },
      "outputs": [],
      "source": [
        "# Função pig_latin\n",
        "pig_latin()"
      ]
    },
    {
      "cell_type": "markdown",
      "metadata": {
        "id": "redFuheZ__v6"
      },
      "source": [
        "**b)** Elabore um programa que solicite a digitação de uma frase e exiba a versão traduzida em “latim porco”."
      ]
    },
    {
      "cell_type": "code",
      "execution_count": null,
      "metadata": {
        "id": "Zm_zjRKakIKW"
      },
      "outputs": [],
      "source": [
        "# Programa\n"
      ]
    },
    {
      "cell_type": "markdown",
      "metadata": {
        "id": "Nwdo6Moy5MLa"
      },
      "source": [
        "##**Exercício 05 - Tratando datas**\n",
        "\n",
        "Leia uma cadeia de caracteres no formato “DD/MM/AAAA” e copie o dia, mes e ano para 3 variaveis inteiras. Antes disso:\n",
        "\n",
        "**a)** Construa uma função `verifica_barras` que recebe a data fornecida e checa se as barras estão posicionadas corretamente. Em caso de de inconsistência a função deve retornar `False`, caso contrário, `True`."
      ]
    },
    {
      "cell_type": "code",
      "execution_count": null,
      "metadata": {
        "id": "LNh6w8nU6n2h"
      },
      "outputs": [],
      "source": [
        "# Função verifica_barras\n"
      ]
    },
    {
      "cell_type": "markdown",
      "metadata": {
        "id": "sfMH2hce6obA"
      },
      "source": [
        "**b)** Construa a função `verifica_campos` que recebe a data fornecida, separa os campos DD, MM e AAAA e verifica se são numéricos. Em caso afirmativo, a função deve retornar os campos no formato inteiro; caso contrário, deve retornar `False`."
      ]
    },
    {
      "cell_type": "code",
      "execution_count": null,
      "metadata": {
        "id": "K9vxoS8h72Cw"
      },
      "outputs": [],
      "source": [
        "# Função verifica_campos\n"
      ]
    },
    {
      "cell_type": "markdown",
      "metadata": {
        "id": "7ozDAJJQ72bQ"
      },
      "source": [
        "**c)** Elabore um programa que peça ao usuário que digite uma data no formato DD/MM/AAAA e, usando as funções dos itens anteriores, armazene, se possível, os campos DD, MM e AAAA em variáveis inteiras. Se houver algum tipo de incoerência na entrada fornecida, o programa deve pedir nova digitação."
      ]
    },
    {
      "cell_type": "code",
      "execution_count": null,
      "metadata": {
        "id": "dfEJduA28ScJ"
      },
      "outputs": [],
      "source": [
        "# Programa\n"
      ]
    },
    {
      "cell_type": "markdown",
      "metadata": {
        "id": "kBTRt8fl8S0x"
      },
      "source": [
        "##**Desafio - Tratameto de strings**##\n",
        "\n",
        "Elabore um programa modular que encontre o conjunto de 5 dígitos consecutivos na sequência abaixo que gere o maior produto."
      ]
    },
    {
      "cell_type": "code",
      "execution_count": null,
      "metadata": {
        "id": "sWauEdy38yzB"
      },
      "outputs": [],
      "source": [
        "# String para análise\n",
        "sequencia = '''\n",
        "73167176531330624919225119674426574742355349194934\n",
        "96983520312774506326239578318016984801869478851843\n",
        "85861560789112949495459501737958331952853208805511\n",
        "12540698747158523863050715693290963295227443043557\n",
        "66896648950445244523161731856403098711121722383113\n",
        "62229893423380308135336276614282806444486645238749\n",
        "30358907296290491560440772390713810515859307960866\n",
        "70172427121883998797908792274921901699720888093776\n",
        "65727333001053367881220235421809751254540594752243\n",
        "52584907711670556013604839586446706324415722155397\n",
        "53697817977846174064955149290862569321978468622482\n",
        "83972241375657056057490261407972968652414535100474\n",
        "82166370484403199890008895243450658541227588666881\n",
        "16427171479924442928230863465674813919123162824586\n",
        "17866458359124566529476545682848912883142607690042\n",
        "24219022671055626321111109370544217506941658960408\n",
        "07198403850962455444362981230987879927244284909188\n",
        "84580156166097919133875499200524063689912560717606\n",
        "05886116467109405077541002256983155200055935729725\n",
        "71636269561882670428252483600823257530420752963450\n",
        "'''"
      ]
    },
    {
      "cell_type": "code",
      "execution_count": null,
      "metadata": {
        "id": "-5akT-jN-dr4"
      },
      "outputs": [],
      "source": []
    }
  ],
  "metadata": {
    "colab": {
      "provenance": []
    },
    "kernelspec": {
      "display_name": "Python 3",
      "language": "python",
      "name": "python3"
    },
    "language_info": {
      "codemirror_mode": {
        "name": "ipython",
        "version": 3
      },
      "file_extension": ".py",
      "mimetype": "text/x-python",
      "name": "python",
      "nbconvert_exporter": "python",
      "pygments_lexer": "ipython3",
      "version": "3.12.1"
    },
    "vscode": {
      "interpreter": {
        "hash": "c261aea317cc0286b3b3261fbba9abdec21eaa57589985bb7a274bf54d6cc0a7"
      }
    }
  },
  "nbformat": 4,
  "nbformat_minor": 0
}
