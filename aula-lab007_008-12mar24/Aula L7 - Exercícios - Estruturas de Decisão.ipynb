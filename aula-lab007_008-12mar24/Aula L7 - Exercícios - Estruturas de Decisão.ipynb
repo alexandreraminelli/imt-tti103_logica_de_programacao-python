{
  "cells": [
    {
      "cell_type": "markdown",
      "metadata": {
        "id": "oNAE5ZPfjt3g"
      },
      "source": [
        "#**TTI103 - Lógica de Programação**\n",
        "\n",
        "#**Aula L7 - Estruturas de Decisão**"
      ]
    },
    {
      "cell_type": "markdown",
      "metadata": {
        "id": "yHnnxSvFrggG"
      },
      "source": [
        "#**Exercício 01**\n",
        "\n",
        "Escreva um programa Python que recebe um ano de nosso calendário gregoriano $[1]$ no formato $YYYY$ e decida se o ano é bissexto ou não.\n",
        "\n",
        "*ALGORITMO:* Para determinar se um ano é bissexto, execute estas etapas:\n",
        "\n",
        "(1) Se o ano for uniformemente divisível por 4, vá para a etapa 2. Caso contrário, vá para a etapa 5.\n",
        "\n",
        "(2) Se o ano for uniformemente divisível por 100, vá para a etapa 3. Caso contrário, vá para a etapa 4.\n",
        "\n",
        "(3) Se o ano for uniformemente divisível por 400, vá para a etapa 4. Caso contrário, vá para a etapa 5.\n",
        "\n",
        "(4) O ano é bissexto (tem 366 dias).\n",
        "\n",
        "(5) O ano não é um ano bissexto (tem 365 dias).\n",
        "\n",
        "$[1]$ Calendário criado em 1582 pelo Papa Gregório XIII (1502 – 1585) — daí o nome “gregoriano”."
      ]
    },
    {
      "cell_type": "code",
      "execution_count": 26,
      "metadata": {
        "id": "B2F61JDO50FU"
      },
      "outputs": [
        {
          "name": "stdout",
          "output_type": "stream",
          "text": [
            "Analisando...\n",
            "1914 não é um ano bissexto, pois tem 365 dias.\n"
          ]
        }
      ],
      "source": [
        "from time import sleep\n",
        "# Exercício 01\n",
        "ano = int(input('Digite um ano (formato YYYY): '))\n",
        "\n",
        "print('Analisando...')\n",
        "sleep(2)\n",
        "\n",
        "if (ano % 4 == 0) and (ano % 100 != 0) and (ano % 400):\n",
        "    print(f'{ano} é um ano bissexto, pois tem 366 dias.')\n",
        "else:\n",
        "    print(f'{ano} não é um ano bissexto, pois tem 365 dias.')"
      ]
    },
    {
      "cell_type": "markdown",
      "metadata": {
        "id": "SXv1755C53CU"
      },
      "source": [
        "#**Exercício 02**\n",
        "\n",
        "Escreva um programa Python que determine o estágio de vida de uma pessoa, a partir de sua idade:\n",
        "\n",
        "* Se a pessoa tiver menos de 2 anos, imprima uma mensagem informando que a pessoa é um bebê.\n",
        "* Se a pessoa tiver pelo menos 2 anos, mas menos de 4, imprima uma mensagem informando que a\n",
        "pessoa é uma criança de colo.\n",
        "* Se a pessoa tiver pelo menos 4 anos, mas menos de 13, imprima uma mensagem informando que\n",
        "a pessoa é uma criança.\n",
        "* Se a pessoa tiver pelo menos 13 anos, mas menos de 20, imprima uma mensagem dizendo que\n",
        "a pessoa é um adolescente.\n",
        "* Se a pessoa tiver pelo menos 20 anos, mas menos de 65, imprima uma mensagem que\n",
        "dizendo que a pessoa é adulta.\n",
        "* Se a pessoa tiver 65 anos ou mais, imprima uma mensagem informando que a pessoa é idosa."
      ]
    },
    {
      "cell_type": "code",
      "execution_count": 28,
      "metadata": {
        "id": "KSFlFxMY9NhO"
      },
      "outputs": [
        {
          "name": "stdout",
          "output_type": "stream",
          "text": [
            "Adulto\n"
          ]
        }
      ],
      "source": [
        "# Exercício 02\n",
        "idade = int(input('Qual é sua idade? '))\n",
        "\n",
        "if idade < 2:\n",
        "    print('Bebê')\n",
        "elif idade < 4:\n",
        "    print('Criança de colo')\n",
        "elif idade < 13:\n",
        "    print('Criança')\n",
        "elif idade < 20:\n",
        "    print('Adolescente')\n",
        "elif idade < 65:\n",
        "    print('Adulto')\n",
        "else:\n",
        "    print('Idoso')"
      ]
    },
    {
      "cell_type": "markdown",
      "metadata": {
        "id": "aBnaN_mb9Pst"
      },
      "source": [
        "#**Exercício 03**\n",
        "\n",
        "Escreva um programa Python que recebe um único carácter como entrada e decide se esse carácter é uma letra maiúscula, uma letra minúscula, um algarismo decimal ou um carácter especial.\n",
        "\n",
        "Na codificação ASCII:\n",
        "* As letras maiúsculas de 'A' a 'Z' são codificadas pelos decimais 65 a 90;\n",
        "* As letras minúsculas de 'a' a 'z' são codificadas pelos decimais 97 a 122;\n",
        "* Os algarismos decimais são codificados pelos decimais 48 a 57;\n",
        "* Os decimais de 0 a 255, com exceção daqueles mencionados acima, codificam caracteres especiais.\n",
        "\n",
        "*IMPORTANTE:* Para checar a codificação ASCII da variável `caracter`que contém um único carácter, use o comando ` ord`. Veja um exemplo:\n",
        "\n",
        "`caracter = A`\n",
        "\n",
        "`decimal = ord(caracter)`\n",
        "\n",
        "`print(decimal)`\n",
        "\n",
        "`65`"
      ]
    },
    {
      "cell_type": "code",
      "execution_count": 9,
      "metadata": {
        "id": "FtvHlRliAzi2"
      },
      "outputs": [
        {
          "name": "stdout",
          "output_type": "stream",
          "text": [
            "Analisando o caractere A...\n",
            "Caractere especial\n"
          ]
        }
      ],
      "source": [
        "# Exercício 03\n",
        "from time import sleep\n",
        "caractere = str(input('Digite um caractere: ')).strip()[0]\n",
        "\n",
        "print(f'Analisando o caractere {caractere}...')\n",
        "sleep(1)\n",
        "\n",
        "cod = ord(caractere)\n",
        "\n",
        "if 65 > cod > 90:\n",
        "    print('Letra maiúscula')\n",
        "elif 97 > cod > 122:\n",
        "    print('Letra minúscula')\n",
        "elif 48 > cod > 57:\n",
        "    print('Algarismo decimal')\n",
        "else:\n",
        "    print('Caractere especial')"
      ]
    },
    {
      "cell_type": "markdown",
      "metadata": {
        "id": "_ZgQVyrNA2AG"
      },
      "source": [
        "#**Exercício 04**\n",
        "\n",
        "Um vendedor fornece três tipos de brinquedos:\n",
        "\n",
        "(1) brinquedos que usam baterias;\n",
        "\n",
        "(2) brinquedos que usam pilhas;\n",
        "\n",
        "(3) brinquedos com baterias recarregáveis.\n",
        "\n",
        "O vendedor dá um desconto de 10% em pedidos de brinquedos à bateria, se o pedido for superior a $R\\$\\,1000,00$.\n",
        "\n",
        "Em pedidos superiores a $R\\$\\,100,00$ para brinquedos à pilha, é concedido um desconto de 5%.\n",
        "\n",
        "Um desconto de 10% é concedido em pedidos de brinquedos com baterias recarregáveis, caso o valor seja superior a $R\\$\\,500,00$.\n",
        "\n",
        "Suponha que os códigos numéricos 1, 2 e 3 sejam usados para designar brinquedos à bateria, à pilha e à baterias recarregáveis, respectivamente. Escreva um programa Python que leia o código do produto e o valor do pedido. A seguir, calcule e imprima o valor líquido que o cliente deverá pagar após o desconto, se houver."
      ]
    },
    {
      "cell_type": "code",
      "execution_count": 17,
      "metadata": {
        "id": "ToW3uB9rDaev"
      },
      "outputs": [
        {
          "name": "stdout",
          "output_type": "stream",
          "text": [
            "==============================\n",
            "Subtotal: R$2500.00\n",
            "Desconto: 5%\n",
            "------------------------------\n",
            "Preço final: R$2375.00\n"
          ]
        }
      ],
      "source": [
        "# Exercício 04\n",
        "while True:\n",
        "    tipo = int(input('''Selecione o tipo de brinquedo:\n",
        "    1 - Bateria\n",
        "    2 - Pilhas\n",
        "    3 - Baterias recarregáveis\n",
        "    '''))\n",
        "    if tipo == 1 or tipo == 2 or tipo == 3:\n",
        "        break\n",
        "    else:\n",
        "        print('Entrada inválida! Tente novamente!')\n",
        "\n",
        "preço = float(input('Qual foi o preço do pedido (em R$)?'))\n",
        "\n",
        "if tipo == 1 and preço > 1_000:\n",
        "    desconto = 10\n",
        "elif tipo == 2 and preço > 100:\n",
        "    desconto = 5\n",
        "elif tipo == 3 and preço > 500:\n",
        "    desconto = 10\n",
        "else:\n",
        "    desconto = 0\n",
        "\n",
        "print('='*30)\n",
        "print(f'Subtotal: R${preço:.2f}\\nDesconto: {desconto}%')\n",
        "\n",
        "print('-'*30)\n",
        "preço_final = preço * (1 - desconto/100)\n",
        "print(f'Preço final: R${preço_final:.2f}')"
      ]
    },
    {
      "cell_type": "markdown",
      "metadata": {
        "id": "cnPtnkZADwi_"
      },
      "source": [
        "#**Exercício 05**\n",
        "\n",
        "\n",
        "A concessionária *Paschim Gujarat Vij Company Ltd.* calcula o valor da conta de eletricidade segundo o esquema abaixo:\n",
        "\n",
        "* 0-100 unidades consumidas: $\\$\\,0,50$ por unidade;\n",
        "* 101-200 unidades consumidas: $\\$\\,50$ mais $\\$\\,1$ por unidade acima de 100 unidades;\n",
        "* 201-300 unidades consumidas: $\\$\\,150$ mais $\\$\\,1,50$ por unidade acima de 200 unidades;\n",
        "* Mais de 300 unidades consumidas: $\\$\\,300$ mais $\\$\\,2$ por unidade acima de 300 unidades.\n",
        "\n",
        "Escreva um programa Python que leia o valor passado do medidor (penúltima medição, 30 dias atrás) e o valor atual (última medição, hoje) e, a partir dessas informações, calcule o número de unidades consumidas e o valor da conta de eletricidade do mês."
      ]
    },
    {
      "cell_type": "code",
      "execution_count": 19,
      "metadata": {
        "id": "dSNjB9Q0GTnY"
      },
      "outputs": [
        {
          "name": "stdout",
          "output_type": "stream",
          "text": [
            "Consumo mensal: 800.0 unidades\n",
            "Calculando preço...\n",
            "Conta de luz do mês: R$1300.00\n"
          ]
        }
      ],
      "source": [
        "# Exercício 05\n",
        "from time import sleep\n",
        "\n",
        "penúltima_medição = float(input('Na penúltima medição no mês anterior, qual era o consumo? '))\n",
        "medição_atual = float(input('Qual foi o consumo nesse mês de acordo com a medição atual? '))\n",
        "\n",
        "unidades = medição_atual - penúltima_medição\n",
        "\n",
        "print(f'Consumo mensal: {unidades} unidades')\n",
        "print('Calculando preço...')\n",
        "sleep(2)\n",
        "\n",
        "if unidades <= 100:\n",
        "    conta = 0.5 * unidades\n",
        "elif unidades <= 200:\n",
        "    conta = 50 + (unidades - 100)\n",
        "elif unidades <= 300:\n",
        "    conta = 150 + 1.5 * (unidades - 200)\n",
        "else:\n",
        "    conta = 300 + 2 * (unidades - 300)\n",
        "\n",
        "print(f'\\nConta de luz do mês: R${conta:.2f}')"
      ]
    }
  ],
  "metadata": {
    "colab": {
      "provenance": []
    },
    "kernelspec": {
      "display_name": "Python 3",
      "name": "python3"
    },
    "language_info": {
      "codemirror_mode": {
        "name": "ipython",
        "version": 3
      },
      "file_extension": ".py",
      "mimetype": "text/x-python",
      "name": "python",
      "nbconvert_exporter": "python",
      "pygments_lexer": "ipython3",
      "version": "3.12.1"
    }
  },
  "nbformat": 4,
  "nbformat_minor": 0
}
