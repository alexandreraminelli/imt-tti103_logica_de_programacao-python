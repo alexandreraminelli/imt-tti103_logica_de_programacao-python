{
  "cells": [
    {
      "cell_type": "markdown",
      "metadata": {
        "id": "YSAoi_Yl7YRt"
      },
      "source": [
        "#**TTI103 - Lógica de Programação**\n",
        "\n",
        "#**Aula L4 - Importação de módulos e cálculos em geral**"
      ]
    },
    {
      "cell_type": "markdown",
      "metadata": {
        "id": "PW_bRKycNYLG"
      },
      "source": [
        "# Importação de módulos\n",
        "\n",
        "**Problema:** Considere modelo matemático que determina a altura $y$ de uma bola lançada verticalmente para cima, com velocidade inicial $v_0$:\n",
        "\n",
        "$$y=v_0t - \\frac{1}{2}gt^2,$$\n",
        "\n",
        "em que $g$ é a aceleração da gravidade (em $\\text{m/s}^2$) e $t$ é o tempo em segundos. Quanto tempo leva para que a bola atinja uma altura específica $y_c$$^{[1]}$?\n",
        "\n",
        "Bem, quando $y=y_c$, temos:\n",
        "\n",
        "$$y_c=v_0t - \\frac{1}{2}gt^2\\Rightarrow -\\frac{1}{2}gt^2 + v_0t - y_c=0$$\n",
        "\n",
        "As soluções para essa equação são:\n",
        "\n",
        "$$t_1=\\frac{-v_0+\\sqrt{v_0^2-2gy_c}}{-g}=\\frac{v_0-\\sqrt{v_0^2-2gy_c}}{g}$$\n",
        "\n",
        "$$t_2=\\frac{-v_0-\\sqrt{v_0^2-2gy_c}}{-g}=\\frac{v_0+\\sqrt{v_0^2-2gy_c}}{g}$$\n",
        "\n",
        "As duas soluções são fisicamente viáveis, uma vez que a bola atinge a altura $y_c$ no trajeto de subida ($t=t_1$) e também na descida ($t=t_2>t_1)$.\n",
        "\n",
        "Para a determinação de $t_1$ e $t_2$, precisamos calcular $\\sqrt{v_0^2-2gy_c}$, uma raiz quadrada. Poderíamos reescrever a expressão, afinal\n",
        "\n",
        "$$\\sqrt{v_0^2-2gy_c}=(v_0^2-2gy_c)^{\\frac{1}{2}}$$\n",
        "\n",
        "e então usar o operador de potência `**`. Mas, e quando precisarmos calcular outras funções tais como, seno, cosseno, logaritmo ou exponencial?\n",
        "\n",
        "Há uma biblioteca, ou *módulo*, no Python que realiza todas essas operações: o módulo `math`. Para usá-lo, basta empregar o comando `import`. Assim, poderemos acessar a função raíz quadrada com a instrução `math.sqrt()`.\n",
        "\n",
        "$[1]$ *IMPORTANTE:* Note que não podemos arbitrar qualquer escolha para $y_c$, uma vez que a bola atinge uma altura máxima\n",
        "\n",
        "$$y_{\\text{max}}=\\frac{v_0^2}{2g}-y_c\\geq 0,$$\n",
        "\n",
        "pois foi lançada verticalmente para cima. Consequentemente, é preciso que $0\\leq y_c\\leq v_0^2/2g$."
      ]
    },
    {
      "cell_type": "markdown",
      "metadata": {
        "id": "F9a73vUn2LSV"
      },
      "source": [
        "**Solução:** Admita que, em um lançamento vertical de uma bola, tenha-se $v_0=5\\text{ m/s}$. Quanto tempo leva para que a bola atinja uma altura $y_c=0,2\\text{ m}$?"
      ]
    },
    {
      "cell_type": "code",
      "execution_count": 10,
      "metadata": {
        "id": "ruLYXh-UNUd0"
      },
      "outputs": [
        {
          "name": "stdout",
          "output_type": "stream",
          "text": [
            "A altura 4.00 m é atingida em t1 = 0.14 metros e em t2 = 5.98 metros.\n"
          ]
        }
      ],
      "source": [
        "# Solução para o problema motivador\n",
        "import math\n",
        "\n",
        "# Vallores de teste\n",
        "v0 = float(input('Digite o valor inicial da velocidade: '))\n",
        "g = 9.81\n",
        "yc = float(input('Digite o valor da altura desejada: '))\n",
        "\n",
        "# Cálculos dos tempos para atingir a altura yc\n",
        "t1 = (v0 - math.sqrt(v0 ** 2 - 2 * g * yc))/g\n",
        "t2 = (v0 + math.sqrt(v0 ** 2 - 2 * g * yc))/g\n",
        "\n",
        "# Saída\n",
        "print(f'A altura {yc:.2f} m é atingida em t1 = {t1:.2f} metros e em t2 = {t2:.2f} metros.')"
      ]
    },
    {
      "cell_type": "markdown",
      "metadata": {
        "id": "GO1nZ7L01NyT"
      },
      "source": [
        "## Duas formas de importar módulos\n",
        "\n",
        "Vimos que a maneira padrão de se importar um módulo, `math` por exemplo, é escrever\n",
        "\n",
        "`import math`\n",
        "\n",
        "e então acessar as funções individuais usando o nome do módulo como prefixo. Fizemos isso na solução do problema do lançamento vertical escrevendo\n",
        "\n",
        "`math.sqrt(v0**2 - 2*g*yc)`.\n",
        "\n",
        "A maioria das pessoas geralmente acha `math.sqrt(y)` menos agradável do que apenas `sqrt(y)`. Felizmente, existe uma sintaxe de importação alternativa que nos permite omitir o nome do módulo como um prefixo. Essa sintaxe alternativa tem a forma `from module import function`. Um exemplo específico é\n",
        "\n",
        "`from math import sqrt`.\n",
        "\n",
        "Agora podemos trabalhar diretamente com a função `sqrt`, sem o prefixo `math.`."
      ]
    },
    {
      "cell_type": "markdown",
      "metadata": {
        "id": "-409BNb53m8Q"
      },
      "source": [
        "##**Exercício 01**##\n",
        "\n",
        "Reescreva o código anterior usando a sintaxe de importação alternativa para a função `sqrt`. Formate a saída para que os tempos $t_1$ e $t_2$ sejam exibidos com precisão de duas casas decimais."
      ]
    },
    {
      "cell_type": "code",
      "execution_count": 12,
      "metadata": {
        "id": "x4g5AJmG4MYV"
      },
      "outputs": [
        {
          "name": "stdout",
          "output_type": "stream",
          "text": [
            "A altura 2.00 m é atingida em t1 = 0.00 metros e em t2 = 88.07 metros.\n"
          ]
        }
      ],
      "source": [
        "# Exercício 01\n",
        "from math import sqrt\n",
        "\n",
        "# Vallores de teste\n",
        "v0 = float(input('Digite o valor inicial da velocidade: '))\n",
        "g = 9.81\n",
        "yc = float(input('Digite o valor da altura desejada: '))\n",
        "\n",
        "# Cálculos dos tempos para atingir a altura yc\n",
        "t1 = (v0 - sqrt(v0 ** 2 - 2 * g * yc))/g\n",
        "t2 = (v0 + sqrt(v0 ** 2 - 2 * g * yc))/g\n",
        "\n",
        "# Saída\n",
        "print(f'A altura {yc:.2f} m é atingida em t1 = {t1:.2f} metros e em t2 = {t2:.2f} metros.')"
      ]
    },
    {
      "cell_type": "markdown",
      "metadata": {
        "id": "J3Al_cDz4mu2"
      },
      "source": [
        "Podemos importar mais de uma função por vez. Por exemplo:\n",
        "\n",
        "`from math import sqrt, exp, log, sin`\n",
        "\n",
        "Também é possível escrever\n",
        "\n",
        "`from math import *`\n",
        "\n",
        "e importar todas as funções do módulo `math`. Isso inclui `sin`, `cos`, `tan`, `asin`, `acos`, `atan`, `sinh`, `cosh`, `tanh`, `exp`, `log` (base e), `log10` (base 10), `sqrt` e também as famosas constantes `e` e `pi`.  \n",
        "\n",
        "A importação de todas as funções de um módulo usando a sintaxe do asterisco (*) pode ser conveniente, mas resulta em uma grande quantidade extra de palavras reservadas no programa que acabam não sendo usadas. Como regra geral, é boa prática de programação importar apenas as funções que de fato serão empregadas o programa."
      ]
    },
    {
      "cell_type": "markdown",
      "metadata": {
        "id": "SCpwdfOG-oaF"
      },
      "source": [
        "##**Exercício 02**##\n",
        "\n",
        "Considere a definição da função seno hiperbólico:\n",
        "\n",
        "$$\\sinh(x)=\\frac{1}{2}(e^x-e^{-x})$$\n",
        "\n",
        "Podemos calcular o $\\sinh(x)$ de três formas:\n",
        "\n",
        "* por meio da função `math.sinh`;\n",
        "* avaliando o lado direito da definição usando a função `math.exp`;\n",
        "* avaliando o lado direito da definição usando expressões de potência em conjunto com a constante `math.e`.\n",
        "\n",
        "Elabore um programa que calcule $\\sinh(2\\pi)$ empregando as três formas propostas."
      ]
    },
    {
      "cell_type": "code",
      "execution_count": 14,
      "metadata": {
        "id": "8qpP8rWxAknx"
      },
      "outputs": [
        {
          "name": "stdout",
          "output_type": "stream",
          "text": [
            "267.74489404101644\n",
            "267.74489404101644\n",
            "267.7448940410163\n"
          ]
        }
      ],
      "source": [
        "# Exercício 02\n",
        "from math import sinh, exp, e, pi\n",
        "\n",
        "x = 2 * pi\n",
        "# Processamento\n",
        "valor1 = sinh(x)\n",
        "valor2 = 0.5 * (exp(x) - exp(-x))\n",
        "valor3 = 1 / 2 * (e ** x - e ** (-x))\n",
        "\n",
        "print(valor1)\n",
        "print(valor2)\n",
        "print(valor3)"
      ]
    },
    {
      "cell_type": "markdown",
      "metadata": {
        "id": "uNQ2HOjjBu8k"
      },
      "source": [
        "**Observação:** Note que `valor1`e `valor2`são iguais, mas `valor3` é ligeiramente diferente dos demais. Por que?\n",
        "\n",
        "Nossos programas lidam com números reais que, em geral, necessitam de infinitas casas decimais para serem representados exatamente. O computador trunca a sequência de casas decimais, pois a capacidade de memória para armazenamento é finita. De fato, é quase um padrão registrar somente 17 dígitos de um número real na memória. A forma como esse truncamento ocorre foge ao escopo da nossa disciplina. Por ora, é importante notar que números reais são representados no computador de forma aproximada. Apenas uma pequena parcela dos reais é representada de forma exata; a grande maioria é uma (excelente) aproximação.\n",
        "\n",
        "Consequentemente, a maioria das operações aritméticas envolvem núemros aproximados, resultando em cálculos aproximados. Veja um exemplo simples. Sabemos que:\n",
        "\n",
        "$$\\frac{1}{49}\\cdot 49=1=\\frac{1}{51}\\cdot 51$$\n",
        "\n",
        "No entanto, se fizermos esse cálculo no Python, obtemos:"
      ]
    },
    {
      "cell_type": "code",
      "execution_count": 15,
      "metadata": {
        "id": "taXHYLWnBrFu"
      },
      "outputs": [
        {
          "name": "stdout",
          "output_type": "stream",
          "text": [
            "0.9999999999999999 1.0\n"
          ]
        }
      ],
      "source": [
        "print(1/49*49, 1/51*51)"
      ]
    },
    {
      "cell_type": "markdown",
      "metadata": {
        "id": "nXKSHsvBovGS"
      },
      "source": [
        "##**Exercício 03**##\n",
        "\n",
        "Escreva um programa Python em que o usuário define um comprimento dado em metros e então o programa calcula e exibe o comprimento correspondente medido em polegadas, pés, jardas e milhas.\n",
        "\n",
        "Sabe-se que:\n",
        "* uma polegada equivale a 2,54 cm;\n",
        "* um pé equivale a 12 polegadas;\n",
        "* uma jarda equiavel a 3 pés;\n",
        "* uma milha britânica equivale a 1760 jardas.\n",
        "\n",
        "Para verificação, um comprimento de 640 metros corresponde a 25196,85 polegadas, 2.099,74 pés, 699,91 jardas ou 0,3977 milhas."
      ]
    },
    {
      "cell_type": "code",
      "execution_count": 32,
      "metadata": {
        "id": "5Zo08Stxrt9p"
      },
      "outputs": [
        {
          "name": "stdout",
          "output_type": "stream",
          "text": [
            "492760.00 polegadas;\n",
            "5913120.00 pés;\n",
            "17739360.00 jardas;\n",
            "31221273600.00 milhas.\n"
          ]
        }
      ],
      "source": [
        "# Exercício 03\n",
        "metros = float(input(\"Quandos metros você deseja converter? \"))\n",
        "\n",
        "centimetros = 100 * metros\n",
        "polegadas = 2.54 * centimetros\n",
        "pés = 12 * polegadas\n",
        "jardas = 3 * pés\n",
        "milhas = 1760 * jardas\n",
        "\n",
        "print(f'{polegadas:.2f} polegadas;')\n",
        "print(f'{pés:.2f} pés;')\n",
        "print(f'{jardas:.2f} jardas;')\n",
        "print(f'{milhas:.2f} milhas.')\n"
      ]
    },
    {
      "cell_type": "markdown",
      "metadata": {
        "id": "edrXgdTfsFem"
      },
      "source": [
        "##**Exercício 04**##\n",
        "\n",
        "Seja $p$ a taxa anual de juros praticada por um determinado banco. Um montante inicial $A$ cresce ao valor\n",
        "\n",
        "$$A\\left(1+\\frac{p}{100}\\right)^n$$\n",
        "\n",
        "após $n$ anos. Escreva um prorama Python que peça ao usuário para digitar o valor inicial do investimento, a taxa de juros anual e o período de investimento e então calcule o valor disponível ao final do período."
      ]
    },
    {
      "cell_type": "code",
      "execution_count": 34,
      "metadata": {
        "id": "aM-I9JvWO-Hz"
      },
      "outputs": [
        {
          "name": "stdout",
          "output_type": "stream",
          "text": [
            "No final do investimento, você terá R$20.49.\n"
          ]
        }
      ],
      "source": [
        "# Exercício 04\n",
        "from math import sqrt\n",
        "\n",
        "a = float(input(\"Qual é o montante inicial? \"))\n",
        "p = float(input('Qual é a taxa de juros anual (em %)? '))\n",
        "n = float(input(\"Qual o período de tempo (em anos)? \"))\n",
        "\n",
        "res = a*(sqrt(1+(p/100)))\n",
        "\n",
        "print(f'No final do investimento, você terá R${res:.2f}.')"
      ]
    },
    {
      "cell_type": "markdown",
      "metadata": {
        "id": "JNmYd2TWtJEB"
      },
      "source": [
        "##**Exercício 05**##\n",
        "\n",
        "Execute os programas a seguir. Identifique e corrija os erros.\n",
        "\n",
        "**a)** Será que $\\text{sen}^2(x)+\\cos^2(x)=1$?"
      ]
    },
    {
      "cell_type": "code",
      "execution_count": 26,
      "metadata": {
        "id": "PLyQ7RWfuG8L"
      },
      "outputs": [
        {
          "ename": "SyntaxError",
          "evalue": "invalid decimal literal (880459615.py, line 3)",
          "output_type": "error",
          "traceback": [
            "\u001b[1;36m  Cell \u001b[1;32mIn[26], line 3\u001b[1;36m\u001b[0m\n\u001b[1;33m    1_val = math.sin^2(x) + math.cos^2(x)\u001b[0m\n\u001b[1;37m     ^\u001b[0m\n\u001b[1;31mSyntaxError\u001b[0m\u001b[1;31m:\u001b[0m invalid decimal literal\n"
          ]
        }
      ],
      "source": [
        "from math import sin, cos\n",
        "x = pi/4\n",
        "1_val = math.sin^2(x) + math.cos^2(x)\n",
        "print 1_VAL"
      ]
    },
    {
      "cell_type": "code",
      "execution_count": 27,
      "metadata": {
        "id": "jU8jm2hQ1_Jp"
      },
      "outputs": [
        {
          "name": "stdout",
          "output_type": "stream",
          "text": [
            "1.0000000000000002\n"
          ]
        }
      ],
      "source": [
        "# Programa corrigido (item a)\n",
        "from math import sin, cos, pi\n",
        "x = pi/4\n",
        "val = sin(x)**2 + cos(x)**2\n",
        "print(val)"
      ]
    },
    {
      "cell_type": "markdown",
      "metadata": {
        "id": "1uHuaaI4uLrL"
      },
      "source": [
        "**b)** Calcular $s$ em metros quando $s=v_0t+\\frac{1}{2}at^2$, com $v_0=3\\text{ m/s}$, $t=1\\text{ s}$ e $a=2\\text{ m/s}^2$."
      ]
    },
    {
      "cell_type": "code",
      "execution_count": 28,
      "metadata": {
        "id": "MPPAalg1utfY"
      },
      "outputs": [
        {
          "ename": "SyntaxError",
          "evalue": "invalid decimal literal (3149202312.py, line 4)",
          "output_type": "error",
          "traceback": [
            "\u001b[1;36m  Cell \u001b[1;32mIn[28], line 4\u001b[1;36m\u001b[0m\n\u001b[1;33m    s = v0.t + 0,5.a.t**2\u001b[0m\n\u001b[1;37m                  ^\u001b[0m\n\u001b[1;31mSyntaxError\u001b[0m\u001b[1;31m:\u001b[0m invalid decimal literal\n"
          ]
        }
      ],
      "source": [
        "v0 = 3 m/s\n",
        "t = 1 s\n",
        "a = 2 m/s**2\n",
        "s = v0.t + 0,5.a.t**2\n",
        "print s"
      ]
    },
    {
      "cell_type": "code",
      "execution_count": 29,
      "metadata": {
        "id": "yROc0XTb2hzM"
      },
      "outputs": [
        {
          "name": "stdout",
          "output_type": "stream",
          "text": [
            "(3, 20)\n"
          ]
        }
      ],
      "source": [
        "# Programa corrigido (item b)\n",
        "v0 = 3 \n",
        "t = 1\n",
        "a = 2 ** 2\n",
        "s = v0 * t + 0,5 * a * t ** 2\n",
        "print(s)"
      ]
    },
    {
      "cell_type": "markdown",
      "metadata": {
        "id": "VkvL6B3ewA7_"
      },
      "source": [
        "##**Exercício 06**##\n",
        "\n",
        "A função gaussiana conhecida como curva do sino, expressa por\n",
        "\n",
        "$$f(x)=\\frac{1}{\\sqrt{2\\pi}s}\\text{exp}\\left[-\\frac{1}{2}\\left(\\frac{x-m}{s}\\right)^2\\right],$$\n",
        "\n",
        "é uma das funções mais empregadas em ciência e tecnologia. Os parâmetros $m$ e $s$ designam a média e o desvio padrão da distribuição probabilística de uma determinada população.\n",
        "\n",
        "A variável $x$ indica o valor de uma propriedade $X$ dessa população. O valor $f(x)$ é empregado para determinar a probabilidade de que um indivíduo sorteado aleatoriamente tenha o valor da característica $X$ inferior ou igual a $x$.\n",
        "\n",
        "Escreva um programa Python que peça ao usuário a média e o desvio padrão da população e também o valor de $x$ para o qual se deseja determinar $f(x)$ e então calcule o valor $f(x)$."
      ]
    },
    {
      "cell_type": "code",
      "execution_count": null,
      "metadata": {
        "id": "kyHkOqgWPRQg"
      },
      "outputs": [],
      "source": [
        "# Exercício 06\n"
      ]
    },
    {
      "cell_type": "markdown",
      "metadata": {
        "id": "l-POP02nPUKl"
      },
      "source": [
        "##**Exercício 07**##\n",
        "\n",
        "A força de arrasto que age em um objeto em movimento, devido à resistência do ar, é expressa por:\n",
        "\n",
        "$$F_d=\\frac{1}{2}C_D\\rho AV^2$$\n",
        "\n",
        "Na expressão anterior:\n",
        "\n",
        "* $\\rho$ é a densidade do ar;\n",
        "* $V$ é a velocidade do objeto;\n",
        "* $A$ é a área da seção transversal do objeto (ortogonal à direção da velocidade);\n",
        "* $C_D$ é o coeficiente de arrasto, que depende fortemente do formato do objeto e da rugosidade de sua superfície.\n",
        "\n",
        "A intensidade da força gravitacional que age em um objeto de massa $m$ é $F_g=mg$, em que $g=9,81\\text{ m/s}^2$.\n",
        "\n",
        "Podemos usar as fórmulas para o cálculo de $F_d$ e $F_g$ para estudar a importância da resistência do ar *versus* gravidade quando chutamos uma bola de futebol.\n",
        "\n",
        "A densidade do ar é $\\rho=1,2\\text{ kg/m}^3$. Sabemos que a área da seção transversal de uma esfera de raio $a$ é $A=\\pi a^2$. Para uma bola de futebol, $a=11\\text{ cm}$ e a massa é de $0,43\\text{ kg}$. O coeficiente de arrasto $C_D$ varia com a velocidade, mas um valor médio adequado é $0,4$.\n",
        "\n",
        "Escreva um programa Python que calcule as forças de arrasto e gravitacional que agem em uma bola de futebol. Exiba o valor dessas forças em Newton $[\\text{N}=\\text{kg}\\cdot\\text{m/s}^2]$, com precisão de uma casa decimal. Além disso, exiba também a razão entre as intensidades da força de arrasto e gravitacional. Defina $C_D$, $\\rho$, $A$, $V$, $m$, $g$, $F_d$ e $F_g$ como variáveis, inserindo comentários que registrem suas unidades.\n",
        "\n",
        "Teste seu programa em duas situações:\n",
        "* Chute potente, com $V=120\\text{ km/h}$;\n",
        "* Chute fraco, com $V=30\\text{ km/h}$.\n",
        "\n",
        "Atenção às unidades, pois as velocidades estão expressas em $\\text{km/h}$!!!"
      ]
    },
    {
      "cell_type": "code",
      "execution_count": null,
      "metadata": {
        "id": "FUkeSCtMYYQC"
      },
      "outputs": [],
      "source": [
        "# Exercício 07"
      ]
    }
  ],
  "metadata": {
    "colab": {
      "provenance": []
    },
    "kernelspec": {
      "display_name": "Python 3",
      "name": "python3"
    },
    "language_info": {
      "codemirror_mode": {
        "name": "ipython",
        "version": 3
      },
      "file_extension": ".py",
      "mimetype": "text/x-python",
      "name": "python",
      "nbconvert_exporter": "python",
      "pygments_lexer": "ipython3",
      "version": "3.12.1"
    }
  },
  "nbformat": 4,
  "nbformat_minor": 0
}
